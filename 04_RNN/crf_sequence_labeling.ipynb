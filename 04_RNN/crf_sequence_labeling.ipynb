{
 "cells": [
  {
   "cell_type": "markdown",
   "metadata": {},
   "source": [
    "## 双向LSTM + CRF 做序列标注\n",
    "![](http://img.huaiwen.me/20190122154409.png)\n",
    "\n",
    "http://www.aclweb.org/anthology/N16-1030"
   ]
  },
  {
   "cell_type": "code",
   "execution_count": 1,
   "metadata": {
    "collapsed": false
   },
   "outputs": [
    {
     "data": {
      "text/plain": [
       "<torch._C.Generator at 0x7f5b740a9690>"
      ]
     },
     "execution_count": 1,
     "metadata": {},
     "output_type": "execute_result"
    }
   ],
   "source": [
    "import torch\n",
    "import torch.autograd as autograd\n",
    "import torch.nn as nn\n",
    "import torch.optim as optim\n",
    "\n",
    "torch.manual_seed(1)"
   ]
  },
  {
   "cell_type": "code",
   "execution_count": 4,
   "metadata": {
    "collapsed": false
   },
   "outputs": [],
   "source": [
    "def argmax(vec):\n",
    "    # 返回行最大值得下标\n",
    "    _, idx = torch.max(vec, 1)\n",
    "    return idx.item()"
   ]
  },
  {
   "cell_type": "markdown",
   "metadata": {},
   "source": [
    "$$z = log \\sum_{n=1} ^N exp\\{x_n\\}$$"
   ]
  },
  {
   "cell_type": "code",
   "execution_count": 11,
   "metadata": {},
   "outputs": [
    {
     "data": {
      "text/plain": [
       "9.999999999999999e-19"
      ]
     },
     "execution_count": 11,
     "metadata": {},
     "output_type": "execute_result"
    }
   ],
   "source": [
    "0.000001 * 0.000001 * 0.000001"
   ]
  },
  {
   "cell_type": "code",
   "execution_count": 12,
   "metadata": {},
   "outputs": [
    {
     "data": {
      "text/plain": [
       "-41.44653167389282"
      ]
     },
     "execution_count": 12,
     "metadata": {},
     "output_type": "execute_result"
    }
   ],
   "source": [
    "import math\n",
    "math.log(0.000001) + math.log(0.000001) + math.log(0.000001)"
   ]
  },
  {
   "cell_type": "code",
   "execution_count": 13,
   "metadata": {},
   "outputs": [],
   "source": [
    "a = math.log(0.000001)"
   ]
  },
  {
   "cell_type": "markdown",
   "metadata": {},
   "source": [
    "$$ y = log(x) $$\n",
    "$$ z = log \\sum_{n=1}^N exp(y)  = \\log \\sum_{n=1}^N x$$"
   ]
  },
  {
   "cell_type": "markdown",
   "metadata": {},
   "source": [
    "$$ log \\sum_{n=1}^N exp\\{x_n\\} = a + log \\sum_{n=1}^N exp\\{x_n - a\\} $$"
   ]
  },
  {
   "cell_type": "code",
   "execution_count": 3,
   "metadata": {},
   "outputs": [],
   "source": [
    "# https://blog.csdn.net/zziahgf/article/details/78489562\n",
    "def log_sum_exp(vec):\n",
    "    max_score = vec[0, argmax(vec)]\n",
    "    max_score_broadcast = max_score.view(1, -1).expand(1, vec.size()[1])\n",
    "    return max_score + torch.log(torch.sum(torch.exp(vec - max_score_broadcast)))"
   ]
  },
  {
   "cell_type": "code",
   "execution_count": 14,
   "metadata": {},
   "outputs": [],
   "source": [
    "# 训练数据\n",
    "training_data = [(\n",
    "    \"the wall street journal reported today that apple corporation made money\".split(),\n",
    "    \"B I I I O O O B I O O\".split()\n",
    "), (\n",
    "    \"georgia tech is a university in georgia\".split(),\n",
    "    \"B I O O O O B\".split()\n",
    ")]"
   ]
  },
  {
   "cell_type": "code",
   "execution_count": 15,
   "metadata": {},
   "outputs": [],
   "source": [
    "# 超参\n",
    "START_TAG = \"<START>\"\n",
    "STOP_TAG = \"<STOP>\"\n",
    "EMBEDDING_DIM = 5\n",
    "HIDDEN_DIM = 4"
   ]
  },
  {
   "cell_type": "code",
   "execution_count": 17,
   "metadata": {},
   "outputs": [],
   "source": [
    "# 字典\n",
    "word_to_id = {}\n",
    "for sentence, tags in training_data:\n",
    "    for word in sentence:\n",
    "        if word not in word_to_id:\n",
    "            word_to_id[word] = len(word_to_id)\n",
    "\n",
    "tag_to_id = {\"B\": 0, \"I\": 1, \"O\": 2, START_TAG: 3, STOP_TAG: 4}\n",
    "id_to_tag = {value: key for key, value in tag_to_id.items()}\n",
    "\n",
    "# B begin\n",
    "# i insert\n",
    "# o out\n",
    "#Start 你 是 一个 好人 END\n",
    "# B  O  O   BI"
   ]
  },
  {
   "cell_type": "code",
   "execution_count": 22,
   "metadata": {},
   "outputs": [],
   "source": [
    "def prepare_sequence(seq, to_id):\n",
    "    idxs = [to_id[w] for w in seq]\n",
    "    return torch.tensor(idxs, dtype=torch.long)"
   ]
  },
  {
   "cell_type": "code",
   "execution_count": 25,
   "metadata": {
    "collapsed": false
   },
   "outputs": [],
   "source": [
    "class BiLSTM_CRF(nn.Module):\n",
    "\n",
    "    def __init__(self, vocab_size, tag_to_id, embedding_dim, hidden_dim):\n",
    "        super(BiLSTM_CRF, self).__init__()\n",
    "        self.embedding_dim = embedding_dim\n",
    "        self.hidden_dim = hidden_dim\n",
    "        self.vocab_size = vocab_size\n",
    "        self.tag_to_id = tag_to_id\n",
    "        self.tagset_size = len(tag_to_id)\n",
    "\n",
    "        self.word_embeds = nn.Embedding(vocab_size, embedding_dim)\n",
    "        self.lstm = nn.LSTM(embedding_dim, hidden_dim // 2, num_layers=1, bidirectional=True)\n",
    "\n",
    "        self.hidden2tag = nn.Linear(hidden_dim, self.tagset_size)\n",
    "\n",
    "        # 转移矩阵，第i行第j列，表示从状态j转移到状态i的概率\n",
    "        self.transitions = nn.Parameter(torch.randn(self.tagset_size, self.tagset_size))\n",
    "\n",
    "        # 添加约束，不能从开始标记，直接转到结束标记， 也不能从结束标记转移到开始标记\n",
    "        self.transitions.data[tag_to_id[START_TAG], :] = -10000\n",
    "        self.transitions.data[:, tag_to_id[STOP_TAG]] = -10000\n",
    "\n",
    "        self.hidden = self.init_hidden()\n",
    "\n",
    "    def init_hidden(self):\n",
    "        return (torch.randn(2, 1, self.hidden_dim // 2),\n",
    "                torch.randn(2, 1, self.hidden_dim // 2))\n",
    "\n",
    "    def _forward_alg(self, feats):\n",
    "        init_alphas = torch.full((1, self.tagset_size), -10000.)  # 1 x tagset_size\n",
    "        init_alphas[0][self.tag_to_id[START_TAG]] = 0.\n",
    "        forward_var = init_alphas\n",
    "        \n",
    "        # 10x5  你 是 一个 好人\n",
    "        # 每个字\n",
    "        for feat in feats:\n",
    "            # 1 x 5 你 5维度的feature\n",
    "            alphas_t = []\n",
    "            for next_tag in range(self.tagset_size): # 对于每一个tag b, i, o, start, end\n",
    "                emit_score = feat[next_tag].view(1, -1).expand(1, self.tagset_size)  # 当前字，是这个tag的概率\n",
    "                trans_score = self.transitions[next_tag].view(1, -1)  # 从别的状态转到next_tag的概率\n",
    "                next_tag_var = forward_var + trans_score + emit_score  # 从上一个状态，走一步走到这个状态的概率，乘以这一个字，就是这个状态的概率\n",
    "                alphas_t.append(log_sum_exp(next_tag_var).view(1)) # 这个字，是这个tag的总分\n",
    "            forward_var = torch.cat(alphas_t).view(1, -1) # cat 一下，作为下一字的初始状态\n",
    "        terminal_var = forward_var + self.transitions[self.tag_to_id[STOP_TAG]]\n",
    "        alpha = log_sum_exp(terminal_var)\n",
    "        return alpha\n",
    "\n",
    "    def _get_lstm_features(self, sentence):\n",
    "        \"\"\" 获取lstm的feature\n",
    "        \"\"\"\n",
    "        self.hidden = self.init_hidden()\n",
    "        # 获取word embedding\n",
    "        embeds = self.word_embeds(sentence).view(len(sentence), 1, -1)\n",
    "        # lstm\n",
    "        lstm_out, self.hidden = self.lstm(embeds, self.hidden)\n",
    "        # 展开\n",
    "        lstm_out = lstm_out.view(len(sentence), self.hidden_dim)  # sentence_length x hidden_size\n",
    "        # 预测标签的feature\n",
    "        lstm_feats = self.hidden2tag(lstm_out)\n",
    "        return lstm_feats\n",
    "\n",
    "    def _score_sentence(self, feats, tags):\n",
    "        # 给定标记序列，计算其得分\n",
    "        score = torch.zeros(1)\n",
    "        tags = torch.cat([torch.tensor([self.tag_to_id[START_TAG]], dtype=torch.long), tags])\n",
    "        for i, feat in enumerate(feats):\n",
    "            # 当前分数x状态tag[i] 转到下一个状态 tag[i+1]x是这个状态的概率\n",
    "            score = score + self.transitions[tags[i + 1], tags[i]] + feat[tags[i + 1]]\n",
    "        score = score + self.transitions[self.tag_to_id[STOP_TAG], tags[-1]]\n",
    "        return score\n",
    "\n",
    "    def _viterbi_decode(self, feats):\n",
    "        backpointers = []\n",
    "\n",
    "        init_vvars = torch.full((1, self.tagset_size), -10000.)\n",
    "        init_vvars[0][self.tag_to_id[START_TAG]] = 0\n",
    "\n",
    "        forward_var = init_vvars\n",
    "        for feat in feats: # 对于每一个词\n",
    "            bptrs_t = []  # 最大位置状态\n",
    "            # bptrs_t 你 是 好 人 1 0 2 0\n",
    "            viterbivars_t = []  # 最大位置概率值\n",
    "\n",
    "            for next_tag in range(self.tagset_size):\n",
    "                # 往前走一步\n",
    "                #  [0.1, 0.1, 0.1, 0.2, 0.7]\n",
    "                # [0.1, 0.01, 0.1, 0.19, 0.8]\n",
    "                next_tag_var = forward_var + self.transitions[next_tag]\n",
    "                # 拿到这一步的最大值\n",
    "                # [0.1, 0.01, 0.1, 0.19, 0.8]\n",
    "                # 下标4\n",
    "                best_tag_id = argmax(next_tag_var)\n",
    "                bptrs_t.append(best_tag_id)\n",
    "                # 拿到，走到该状态的概率值\n",
    "                viterbivars_t.append(next_tag_var[0][best_tag_id].view(1))\n",
    "            # 一步之后的状态\n",
    "            forward_var = (torch.cat(viterbivars_t) + feat).view(1, -1)\n",
    "            backpointers.append(bptrs_t)\n",
    "\n",
    "        # 再往前走一步，到终点\n",
    "        terminal_var = forward_var + self.transitions[self.tag_to_id[STOP_TAG]]\n",
    "        best_tag_id = argmax(terminal_var)\n",
    "        path_score = terminal_var[0][best_tag_id]\n",
    "\n",
    "        # 找到最优路径\n",
    "        best_path = [best_tag_id]\n",
    "        for bptrs_t in reversed(backpointers):\n",
    "            best_tag_id = bptrs_t[best_tag_id]\n",
    "            best_path.append(best_tag_id)\n",
    "\n",
    "        start = best_path.pop()\n",
    "        assert start == self.tag_to_id[START_TAG]\n",
    "        best_path.reverse()\n",
    "        return path_score, best_path\n",
    "\n",
    "    def neg_log_likelihood(self, sentence, tags):\n",
    "        feats = self._get_lstm_features(sentence)  # sentence length x embedding size\n",
    "        forward_score = self._forward_alg(feats)\n",
    "        gold_score = self._score_sentence(feats, tags)\n",
    "        return forward_score - gold_score\n",
    "\n",
    "    def forward(self, sentence):\n",
    "        lstm_feats = self._get_lstm_features(sentence)\n",
    "        # 10 词， 5 feature\n",
    "        score, tag_seq = self._viterbi_decode(lstm_feats)\n",
    "        return score, tag_seq"
   ]
  },
  {
   "cell_type": "code",
   "execution_count": 26,
   "metadata": {
    "collapsed": false
   },
   "outputs": [],
   "source": [
    "model = BiLSTM_CRF(len(word_to_id), tag_to_id, EMBEDDING_DIM, HIDDEN_DIM)\n",
    "optimizer = optim.SGD(model.parameters(), lr=0.01, weight_decay=1e-4)"
   ]
  },
  {
   "cell_type": "code",
   "execution_count": 27,
   "metadata": {},
   "outputs": [
    {
     "name": "stdout",
     "output_type": "stream",
     "text": [
      "(tensor(20.1073), [0, 1, 1, 1, 2, 2, 2, 0, 1, 2, 2])\n",
      "[0, 1, 1, 1, 2, 2, 2, 0, 1, 2, 2]\n"
     ]
    }
   ],
   "source": [
    "for epoch in range(300):\n",
    "    for sentence, tags in training_data:\n",
    "        optimizer.zero_grad()\n",
    "        input_sentence = torch.tensor([word_to_id[w] for w in sentence], dtype=torch.long)\n",
    "        target_label = torch.tensor([tag_to_id[t] for t in tags], dtype=torch.long)\n",
    "        loss = model.neg_log_likelihood(input_sentence, target_label)\n",
    "\n",
    "        loss.backward()\n",
    "        optimizer.step()"
   ]
  },
  {
   "cell_type": "code",
   "execution_count": 28,
   "metadata": {},
   "outputs": [
    {
     "name": "stdout",
     "output_type": "stream",
     "text": [
      "['the', 'wall', 'street', 'journal', 'reported', 'today', 'that', 'apple', 'corporation', 'made', 'money']\n",
      "tensor([ 0,  1,  2,  3,  4,  5,  6,  7,  8,  9, 10])\n",
      "(tensor(20.3890), [0, 1, 1, 1, 2, 2, 2, 0, 1, 2, 2])\n",
      "[0, 1, 1, 1, 2, 2, 2, 0, 1, 2, 2]\n"
     ]
    }
   ],
   "source": [
    "with torch.no_grad():\n",
    "    print(training_data[0][0])\n",
    "    sentence = prepare_sequence(training_data[0][0], word_to_id)\n",
    "    print(sentence)\n",
    "    pred = model(precheck_sent)\n",
    "    print(pred)\n",
    "    ground_truth = [tag_to_id[t] for t in training_data[0][1]]\n",
    "    print(ground_truth)"
   ]
  }
 ],
 "metadata": {
  "kernelspec": {
   "display_name": "Python 3",
   "language": "python",
   "name": "python3"
  },
  "language_info": {
   "codemirror_mode": {
    "name": "ipython",
    "version": 3
   },
   "file_extension": ".py",
   "mimetype": "text/x-python",
   "name": "python",
   "nbconvert_exporter": "python",
   "pygments_lexer": "ipython3",
   "version": "3.6.7"
  }
 },
 "nbformat": 4,
 "nbformat_minor": 2
}
