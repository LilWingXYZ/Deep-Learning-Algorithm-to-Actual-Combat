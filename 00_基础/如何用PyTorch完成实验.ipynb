{
 "cells": [
  {
   "cell_type": "markdown",
   "metadata": {
    "slideshow": {
     "slide_type": "-"
    }
   },
   "source": [
    "### 如何用PyTorch完成实验？\n",
    "\n",
    "![](http://img.huaiwen.me/20190117122224.png)"
   ]
  },
  {
   "cell_type": "markdown",
   "metadata": {},
   "source": [
    "## 〇、导入pytorch"
   ]
  },
  {
   "cell_type": "code",
   "execution_count": 1,
   "metadata": {},
   "outputs": [],
   "source": [
    "import torch"
   ]
  },
  {
   "cell_type": "markdown",
   "metadata": {},
   "source": [
    "## 一、 构建数据集、加载数据集、预处理数据集\n",
    "\n",
    "一旦选定了数据集，就要写一些函数去 load 数据集，然后 preprocess 数据集，normalize 数据集， 可以说这是一个实验中占比重最多的部分， 因为：\n",
    "- 每个数据集的格式都不太一样\n",
    "- 需要高速 feed data\n",
    "- 预处理和正则化的方式多种多样\n",
    "- 其他 · · ·\n"
   ]
  },
  {
   "cell_type": "markdown",
   "metadata": {},
   "source": [
    "### 常用数据集\n",
    "Pytorch 开源了两个项目: vision，和 text，分别对应的 Python 包是torchvision, 和 torchtext。\n",
    "![](http://img.huaiwen.me/20190117123023.png)\n",
    "它们受益于众包机制，包含了大量的 dataloader， pre-process 以及 normalize， 分别对应于图像和文本信息。"
   ]
  },
  {
   "cell_type": "markdown",
   "metadata": {},
   "source": [
    "Vision包下集成好的数据集：\n",
    "\n",
    "- MNIST\n",
    "- Fashion-MNIST\n",
    "- EMNIST\n",
    "- COCO\n",
    "- Captions\n",
    "- Detection\n",
    "- LSUN\n",
    "- ImageFolder\n",
    "- DatasetFolder\n",
    "- Imagenet-12\n",
    "- CIFAR\n",
    "- STL10\n",
    "- SVHN\n",
    "- PhotoTour\n",
    "- SBU\n",
    "- Flickr\n",
    "- VOC\n",
    "\n",
    "可以直接用"
   ]
  },
  {
   "cell_type": "code",
   "execution_count": 2,
   "metadata": {},
   "outputs": [
    {
     "name": "stdout",
     "output_type": "stream",
     "text": [
      "Downloading http://yann.lecun.com/exdb/mnist/train-images-idx3-ubyte.gz\n",
      "Downloading http://yann.lecun.com/exdb/mnist/train-labels-idx1-ubyte.gz\n",
      "Downloading http://yann.lecun.com/exdb/mnist/t10k-images-idx3-ubyte.gz\n",
      "Downloading http://yann.lecun.com/exdb/mnist/t10k-labels-idx1-ubyte.gz\n",
      "Processing...\n",
      "Done!\n"
     ]
    }
   ],
   "source": [
    "import torchvision\n",
    "minst = torchvision.datasets.MNIST(root=\"./\", download=True)"
   ]
  },
  {
   "cell_type": "code",
   "execution_count": 11,
   "metadata": {},
   "outputs": [
    {
     "data": {
      "text/plain": [
       "<torchvision.datasets.mnist.MNIST at 0x7f9b5fd12f98>"
      ]
     },
     "execution_count": 11,
     "metadata": {},
     "output_type": "execute_result"
    }
   ],
   "source": [
    "minst"
   ]
  },
  {
   "cell_type": "markdown",
   "metadata": {},
   "source": [
    "### Text包\n",
    "Text下也集成了好多数据集：\n",
    "\n",
    "- Sentiment Analysis\n",
    "    - SST\n",
    "    - IMDb\n",
    "- Question Classification\n",
    "    - TREC\n",
    "- Entailment\n",
    "    - SNLI\n",
    "    - MultiNLI\n",
    "- Language Modeling\n",
    "    - WikiText-2\n",
    "    - WikiText103\n",
    "    - PennTreebank\n",
    "- Machine Translation\n",
    "    - Multi30k\n",
    "    - IWSLT\n",
    "    - WMT14\n",
    "- Sequence Tagging\n",
    "    - UDPOS\n",
    "    - CoNLL2000Chunking\n",
    "- Question Answering\n",
    "    - BABI20\n",
    "\n",
    "都可以直接用"
   ]
  },
  {
   "cell_type": "code",
   "execution_count": 4,
   "metadata": {},
   "outputs": [
    {
     "name": "stdout",
     "output_type": "stream",
     "text": [
      "Looking in indexes: https://pypi.tuna.tsinghua.edu.cn/simple\n",
      "Collecting torchtext\n",
      "\u001b[?25l  Downloading https://pypi.tuna.tsinghua.edu.cn/packages/c6/bc/b28b9efb4653c03e597ed207264eea45862b5260f48e9f010b5068d64db1/torchtext-0.3.1-py3-none-any.whl (62kB)\n",
      "\u001b[K    100% |████████████████████████████████| 71kB 1.1MB/s \n",
      "\u001b[?25hRequirement already satisfied: torch in /home/huaiwen/anaconda3/lib/python3.6/site-packages (from torchtext) (0.4.1)\n",
      "Requirement already satisfied: requests in /home/huaiwen/anaconda3/lib/python3.6/site-packages (from torchtext) (2.21.0)\n",
      "Requirement already satisfied: tqdm in /home/huaiwen/anaconda3/lib/python3.6/site-packages (from torchtext) (4.28.1)\n",
      "Requirement already satisfied: numpy in /home/huaiwen/anaconda3/lib/python3.6/site-packages (from torchtext) (1.15.4)\n",
      "Requirement already satisfied: idna<2.9,>=2.5 in /home/huaiwen/anaconda3/lib/python3.6/site-packages (from requests->torchtext) (2.8)\n",
      "Requirement already satisfied: urllib3<1.25,>=1.21.1 in /home/huaiwen/anaconda3/lib/python3.6/site-packages (from requests->torchtext) (1.24.1)\n",
      "Requirement already satisfied: chardet<3.1.0,>=3.0.2 in /home/huaiwen/anaconda3/lib/python3.6/site-packages (from requests->torchtext) (3.0.4)\n",
      "Requirement already satisfied: certifi>=2017.4.17 in /home/huaiwen/anaconda3/lib/python3.6/site-packages (from requests->torchtext) (2018.11.29)\n",
      "Installing collected packages: torchtext\n",
      "Successfully installed torchtext-0.3.1\n"
     ]
    }
   ],
   "source": [
    "!pip install torchtext"
   ]
  },
  {
   "cell_type": "code",
   "execution_count": 5,
   "metadata": {},
   "outputs": [
    {
     "name": "stdout",
     "output_type": "stream",
     "text": [
      "downloading en-ud-v2.zip\n"
     ]
    },
    {
     "name": "stderr",
     "output_type": "stream",
     "text": [
      "en-ud-v2.zip: 100%|██████████| 688k/688k [00:09<00:00, 72.1kB/s]\n"
     ]
    },
    {
     "name": "stdout",
     "output_type": "stream",
     "text": [
      "extracting\n"
     ]
    }
   ],
   "source": [
    "import torchtext\n",
    "\n",
    "WORD = torchtext.data.Field(init_token=\"<bos>\", eos_token=\"<eos>\")\n",
    "UD_TAG = torchtext.data.Field(init_token=\"<bos>\", eos_token=\"<eos>\")\n",
    "\n",
    "train, val, test = torchtext.datasets.UDPOS.splits(fields=(('word', WORD), ('udtag', UD_TAG), (None, None)))"
   ]
  },
  {
   "cell_type": "code",
   "execution_count": 9,
   "metadata": {},
   "outputs": [
    {
     "name": "stdout",
     "output_type": "stream",
     "text": [
      "['Al', '-', 'Zaman', ':', 'American', 'forces', 'killed', 'Shaikh', 'Abdullah', 'al', '-', 'Ani', ',', 'the', 'preacher', 'at', 'the', 'mosque', 'in', 'the', 'town', 'of', 'Qaim', ',', 'near', 'the', 'Syrian', 'border', '.']\n"
     ]
    }
   ],
   "source": [
    "print(train.examples[0].word)"
   ]
  },
  {
   "cell_type": "code",
   "execution_count": 10,
   "metadata": {},
   "outputs": [
    {
     "name": "stdout",
     "output_type": "stream",
     "text": [
      "['PROPN', 'PUNCT', 'PROPN', 'PUNCT', 'ADJ', 'NOUN', 'VERB', 'PROPN', 'PROPN', 'PROPN', 'PUNCT', 'PROPN', 'PUNCT', 'DET', 'NOUN', 'ADP', 'DET', 'NOUN', 'ADP', 'DET', 'NOUN', 'ADP', 'PROPN', 'PUNCT', 'ADP', 'DET', 'ADJ', 'NOUN', 'PUNCT']\n"
     ]
    }
   ],
   "source": [
    "print(train.examples[0].udtag)"
   ]
  },
  {
   "cell_type": "markdown",
   "metadata": {},
   "source": [
    "### 快速构建自定义数据集\n",
    "用torch.utils.data 快速构建自定义数据集"
   ]
  },
  {
   "cell_type": "code",
   "execution_count": 12,
   "metadata": {},
   "outputs": [],
   "source": [
    "import torch.utils.data as Data\n",
    "\n",
    "x = torch.tensor([1,2,3])\n",
    "y = torch.tensor([0,0,1])\n",
    "\n",
    "dataset = Data.TensorDataset(x, y)"
   ]
  },
  {
   "cell_type": "code",
   "execution_count": 14,
   "metadata": {},
   "outputs": [
    {
     "data": {
      "text/plain": [
       "(tensor([1, 2, 3]), tensor([0, 0, 1]))"
      ]
     },
     "execution_count": 14,
     "metadata": {},
     "output_type": "execute_result"
    }
   ],
   "source": [
    "dataset.tensors"
   ]
  },
  {
   "cell_type": "code",
   "execution_count": 15,
   "metadata": {},
   "outputs": [
    {
     "name": "stdout",
     "output_type": "stream",
     "text": [
      "tensor(1) tensor(0)\n",
      "tensor(2) tensor(0)\n",
      "tensor(3) tensor(1)\n"
     ]
    }
   ],
   "source": [
    "for x, y in dataset:\n",
    "    print(x, y)"
   ]
  },
  {
   "cell_type": "markdown",
   "metadata": {},
   "source": [
    "### 细粒度构建自定义数据集\n",
    "继承torch.utils.data.Dataset，然后重载函数__len__和__getitem__来构建"
   ]
  },
  {
   "cell_type": "code",
   "execution_count": 16,
   "metadata": {},
   "outputs": [],
   "source": [
    "import torch.utils.data as Data\n",
    "class MyDataset(Data.Dataset):\n",
    "    def __init__(self):\n",
    "        # 读取文件之类的\n",
    "        pass\n",
    "    def __getitem__(self, index):\n",
    "        # 获取一个数据\n",
    "        # 再次可以写预处理\n",
    "        # 返回一个数据对（x,y）\n",
    "        pass\n",
    "    def __len__(self):\n",
    "        # 返回数据集的大小\n",
    "        pass"
   ]
  },
  {
   "cell_type": "code",
   "execution_count": 17,
   "metadata": {},
   "outputs": [
    {
     "data": {
      "text/plain": [
       "[['高', '富', '帅', '有'],\n",
       " ['不高', '富', '帅', '有'],\n",
       " ['不高', '不富', '帅', '有'],\n",
       " ['不高', '不富', '不帅', '无']]"
      ]
     },
     "execution_count": 17,
     "metadata": {},
     "output_type": "execute_result"
    }
   ],
   "source": [
    "import torch.utils.data as Data\n",
    "\n",
    "person_1 = ['高','富','帅','有']\n",
    "person_2 = ['不高','富','帅','有']\n",
    "person_3 = ['不高','不富','帅','有']\n",
    "person_4 = ['不高','不富','不帅','无']\n",
    "\n",
    "person = [person_1, person_2, person_3, person_4]\n",
    "\n",
    "person"
   ]
  },
  {
   "cell_type": "code",
   "execution_count": 19,
   "metadata": {},
   "outputs": [],
   "source": [
    "class SingleDog(Data.Dataset):\n",
    "    def __init__(self, person):\n",
    "        self.data = person\n",
    "        \n",
    "    def __getitem__(self, index):\n",
    "        item = self.data[index]\n",
    "        x = item[:3]\n",
    "        y = item[-1]\n",
    "        return x, y\n",
    "    \n",
    "    def __len__(self):\n",
    "        return len(self.data)"
   ]
  },
  {
   "cell_type": "code",
   "execution_count": 20,
   "metadata": {},
   "outputs": [],
   "source": [
    "single = SingleDog(person)"
   ]
  },
  {
   "cell_type": "code",
   "execution_count": 21,
   "metadata": {},
   "outputs": [
    {
     "name": "stdout",
     "output_type": "stream",
     "text": [
      "迭代次数: 0, x :['高', '富', '帅'], y:有\n",
      "迭代次数: 1, x :['不高', '富', '帅'], y:有\n",
      "迭代次数: 2, x :['不高', '不富', '帅'], y:有\n",
      "迭代次数: 3, x :['不高', '不富', '不帅'], y:无\n"
     ]
    }
   ],
   "source": [
    "for index, (x, y)  in enumerate(single):\n",
    "    print(f\"迭代次数: {index}, x :{x}, y:{y}\")"
   ]
  },
  {
   "cell_type": "markdown",
   "metadata": {},
   "source": [
    "### 加载数据集\n",
    "使用torch.utils.data.Dataloader来加载数据集"
   ]
  },
  {
   "cell_type": "code",
   "execution_count": null,
   "metadata": {},
   "outputs": [],
   "source": [
    "tensor_peroson_data_loader = Data.DataLoader(dataset=person_dataset, # 要加载那个数据集\n",
    "                                             batch_size=batch_size,  # 一批数据有几个样例\n",
    "                                             shuffle=True,           # 需不需要随机洗牌\n",
    "                                             sampler=sampler,        # 准备怎么抽样 \n",
    "                                             collate_fn=my_collate_fn) # 抽出来的样本，准备怎么处理"
   ]
  },
  {
   "cell_type": "code",
   "execution_count": 22,
   "metadata": {},
   "outputs": [],
   "source": [
    "single_loader = Data.DataLoader(dataset=single, # 要加载那个数据集\n",
    "                                             batch_size=2)  # 一批数据有几个样例"
   ]
  },
  {
   "cell_type": "code",
   "execution_count": 23,
   "metadata": {},
   "outputs": [
    {
     "name": "stdout",
     "output_type": "stream",
     "text": [
      "迭代次数: 0, x :[('高', '不高'), ('富', '富'), ('帅', '帅')], y:('有', '有')\n",
      "迭代次数: 1, x :[('不高', '不高'), ('不富', '不富'), ('帅', '不帅')], y:('有', '无')\n"
     ]
    }
   ],
   "source": [
    "for index, data  in enumerate(single_loader):\n",
    "    x, y = data\n",
    "    print(f\"迭代次数: {index}, x :{x}, y:{y}\")"
   ]
  },
  {
   "cell_type": "markdown",
   "metadata": {},
   "source": [
    "### 预处理数据集"
   ]
  },
  {
   "cell_type": "markdown",
   "metadata": {},
   "source": [
    "#### 在Dataset中处理"
   ]
  },
  {
   "cell_type": "code",
   "execution_count": 24,
   "metadata": {},
   "outputs": [],
   "source": [
    "word2id = {\n",
    "    '高':1,\n",
    "    '富':1,\n",
    "    '帅':1,\n",
    "    '不高':0,\n",
    "    '不富':0,\n",
    "    '不帅':0,\n",
    "    '有':1,\n",
    "    '无':0\n",
    "}"
   ]
  },
  {
   "cell_type": "code",
   "execution_count": 26,
   "metadata": {},
   "outputs": [],
   "source": [
    "class TensorSingleDog(Data.Dataset):\n",
    "    def __init__(self, person):\n",
    "        self.data = person;\n",
    "    def __getitem__(self, index):\n",
    "        item = self.data[index]\n",
    "        new_item = []\n",
    "        for feature in item:\n",
    "            new_item.append(word2id[feature])\n",
    "        x = new_item[:3]\n",
    "        y = new_item[-1]\n",
    "        return x, y\n",
    "        \n",
    "    def __len__(self):\n",
    "        return len(self.data)"
   ]
  },
  {
   "cell_type": "code",
   "execution_count": 27,
   "metadata": {},
   "outputs": [],
   "source": [
    "single = TensorSingleDog(person)\n",
    "single_loader = Data.DataLoader(dataset=single, batch_size=2) "
   ]
  },
  {
   "cell_type": "code",
   "execution_count": 29,
   "metadata": {},
   "outputs": [
    {
     "name": "stdout",
     "output_type": "stream",
     "text": [
      "迭代次数: 0, x :[tensor([1, 0]), tensor([1, 1]), tensor([1, 1])], y:tensor([1, 1])\n",
      "迭代次数: 1, x :[tensor([0, 0]), tensor([0, 0]), tensor([1, 0])], y:tensor([1, 0])\n"
     ]
    }
   ],
   "source": [
    "for index, data  in enumerate(single_loader):\n",
    "    x, y = data\n",
    "    print(f\"迭代次数: {index}, x :{x}, y:{y}\")"
   ]
  },
  {
   "cell_type": "markdown",
   "metadata": {},
   "source": [
    "#### 在collate中处理（官方实现）"
   ]
  },
  {
   "cell_type": "code",
   "execution_count": 35,
   "metadata": {},
   "outputs": [],
   "source": [
    "def my_collate_fn(batch_data):\n",
    "#     print(\"---------\")\n",
    "    x_batch = []\n",
    "    y_batch = []\n",
    "    for example in batch_data:\n",
    "        x, y  = example\n",
    "        x_batch.append(x)\n",
    "        y_batch.append(y)\n",
    "    x_batch = torch.tensor(x_batch,dtype = torch.float32)\n",
    "    y_batch = torch.tensor(y_batch,dtype = torch.float32)\n",
    "#     print(\"---------\")\n",
    "    return x_batch, y_batch"
   ]
  },
  {
   "cell_type": "code",
   "execution_count": 36,
   "metadata": {},
   "outputs": [],
   "source": [
    "single_loader = Data.DataLoader(dataset=single, batch_size=2, collate_fn=my_collate_fn) "
   ]
  },
  {
   "cell_type": "code",
   "execution_count": 38,
   "metadata": {},
   "outputs": [
    {
     "name": "stdout",
     "output_type": "stream",
     "text": [
      "tensor([[1., 1., 1.],\n",
      "        [0., 1., 1.]])\n",
      "tensor([1., 1.])\n",
      "tensor([[0., 0., 1.],\n",
      "        [0., 0., 0.]])\n",
      "tensor([1., 0.])\n"
     ]
    }
   ],
   "source": [
    "for index, data  in enumerate(single_loader):\n",
    "    x, y = data\n",
    "    print(x)\n",
    "    print(y)\n"
   ]
  },
  {
   "cell_type": "code",
   "execution_count": null,
   "metadata": {},
   "outputs": [],
   "source": []
  },
  {
   "cell_type": "code",
   "execution_count": null,
   "metadata": {},
   "outputs": [],
   "source": []
  },
  {
   "cell_type": "markdown",
   "metadata": {},
   "source": [
    "![](http://img.huaiwen.me/20190117122224.png)\n",
    "## 二、构建模型\n",
    "需要快速自由地实现你想要的模型，如果你是 CV 方向的你可能想实现一 个 ResNet， 如果你是 NLP 相关的你可能想实现一个 Seq2Seq。 不仅需要宏观粒度的 模块级别的构建， 还有需要非常细粒度的动态的甚至分支循环的情况。"
   ]
  },
  {
   "cell_type": "markdown",
   "metadata": {},
   "source": [
    "### 经典模型\n",
    "\n",
    "Pytorch 开源了两个项目: vision，和 text，分别对应的 Python 包是torchvision, 和 torchtext。\n",
    "![](http://img.huaiwen.me/20190117123023.png)\n",
    "\n",
    "### TorchVision\n",
    "支持一些经典模型：\n",
    "- Alexnet\n",
    "- VGG\n",
    "- ResNet\n",
    "- SqueezeNet\n",
    "- DenseNet\n",
    "- Inception v3"
   ]
  },
  {
   "cell_type": "markdown",
   "metadata": {},
   "source": [
    "#### TorchText\n",
    "可惜，对于nlp的任务来说，一直也没有一些很统一的模型出来"
   ]
  },
  {
   "cell_type": "code",
   "execution_count": 39,
   "metadata": {},
   "outputs": [
    {
     "data": {
      "text/plain": [
       "ResNet(\n",
       "  (conv1): Conv2d(3, 64, kernel_size=(7, 7), stride=(2, 2), padding=(3, 3), bias=False)\n",
       "  (bn1): BatchNorm2d(64, eps=1e-05, momentum=0.1, affine=True, track_running_stats=True)\n",
       "  (relu): ReLU(inplace)\n",
       "  (maxpool): MaxPool2d(kernel_size=3, stride=2, padding=1, dilation=1, ceil_mode=False)\n",
       "  (layer1): Sequential(\n",
       "    (0): BasicBlock(\n",
       "      (conv1): Conv2d(64, 64, kernel_size=(3, 3), stride=(1, 1), padding=(1, 1), bias=False)\n",
       "      (bn1): BatchNorm2d(64, eps=1e-05, momentum=0.1, affine=True, track_running_stats=True)\n",
       "      (relu): ReLU(inplace)\n",
       "      (conv2): Conv2d(64, 64, kernel_size=(3, 3), stride=(1, 1), padding=(1, 1), bias=False)\n",
       "      (bn2): BatchNorm2d(64, eps=1e-05, momentum=0.1, affine=True, track_running_stats=True)\n",
       "    )\n",
       "    (1): BasicBlock(\n",
       "      (conv1): Conv2d(64, 64, kernel_size=(3, 3), stride=(1, 1), padding=(1, 1), bias=False)\n",
       "      (bn1): BatchNorm2d(64, eps=1e-05, momentum=0.1, affine=True, track_running_stats=True)\n",
       "      (relu): ReLU(inplace)\n",
       "      (conv2): Conv2d(64, 64, kernel_size=(3, 3), stride=(1, 1), padding=(1, 1), bias=False)\n",
       "      (bn2): BatchNorm2d(64, eps=1e-05, momentum=0.1, affine=True, track_running_stats=True)\n",
       "    )\n",
       "  )\n",
       "  (layer2): Sequential(\n",
       "    (0): BasicBlock(\n",
       "      (conv1): Conv2d(64, 128, kernel_size=(3, 3), stride=(2, 2), padding=(1, 1), bias=False)\n",
       "      (bn1): BatchNorm2d(128, eps=1e-05, momentum=0.1, affine=True, track_running_stats=True)\n",
       "      (relu): ReLU(inplace)\n",
       "      (conv2): Conv2d(128, 128, kernel_size=(3, 3), stride=(1, 1), padding=(1, 1), bias=False)\n",
       "      (bn2): BatchNorm2d(128, eps=1e-05, momentum=0.1, affine=True, track_running_stats=True)\n",
       "      (downsample): Sequential(\n",
       "        (0): Conv2d(64, 128, kernel_size=(1, 1), stride=(2, 2), bias=False)\n",
       "        (1): BatchNorm2d(128, eps=1e-05, momentum=0.1, affine=True, track_running_stats=True)\n",
       "      )\n",
       "    )\n",
       "    (1): BasicBlock(\n",
       "      (conv1): Conv2d(128, 128, kernel_size=(3, 3), stride=(1, 1), padding=(1, 1), bias=False)\n",
       "      (bn1): BatchNorm2d(128, eps=1e-05, momentum=0.1, affine=True, track_running_stats=True)\n",
       "      (relu): ReLU(inplace)\n",
       "      (conv2): Conv2d(128, 128, kernel_size=(3, 3), stride=(1, 1), padding=(1, 1), bias=False)\n",
       "      (bn2): BatchNorm2d(128, eps=1e-05, momentum=0.1, affine=True, track_running_stats=True)\n",
       "    )\n",
       "  )\n",
       "  (layer3): Sequential(\n",
       "    (0): BasicBlock(\n",
       "      (conv1): Conv2d(128, 256, kernel_size=(3, 3), stride=(2, 2), padding=(1, 1), bias=False)\n",
       "      (bn1): BatchNorm2d(256, eps=1e-05, momentum=0.1, affine=True, track_running_stats=True)\n",
       "      (relu): ReLU(inplace)\n",
       "      (conv2): Conv2d(256, 256, kernel_size=(3, 3), stride=(1, 1), padding=(1, 1), bias=False)\n",
       "      (bn2): BatchNorm2d(256, eps=1e-05, momentum=0.1, affine=True, track_running_stats=True)\n",
       "      (downsample): Sequential(\n",
       "        (0): Conv2d(128, 256, kernel_size=(1, 1), stride=(2, 2), bias=False)\n",
       "        (1): BatchNorm2d(256, eps=1e-05, momentum=0.1, affine=True, track_running_stats=True)\n",
       "      )\n",
       "    )\n",
       "    (1): BasicBlock(\n",
       "      (conv1): Conv2d(256, 256, kernel_size=(3, 3), stride=(1, 1), padding=(1, 1), bias=False)\n",
       "      (bn1): BatchNorm2d(256, eps=1e-05, momentum=0.1, affine=True, track_running_stats=True)\n",
       "      (relu): ReLU(inplace)\n",
       "      (conv2): Conv2d(256, 256, kernel_size=(3, 3), stride=(1, 1), padding=(1, 1), bias=False)\n",
       "      (bn2): BatchNorm2d(256, eps=1e-05, momentum=0.1, affine=True, track_running_stats=True)\n",
       "    )\n",
       "  )\n",
       "  (layer4): Sequential(\n",
       "    (0): BasicBlock(\n",
       "      (conv1): Conv2d(256, 512, kernel_size=(3, 3), stride=(2, 2), padding=(1, 1), bias=False)\n",
       "      (bn1): BatchNorm2d(512, eps=1e-05, momentum=0.1, affine=True, track_running_stats=True)\n",
       "      (relu): ReLU(inplace)\n",
       "      (conv2): Conv2d(512, 512, kernel_size=(3, 3), stride=(1, 1), padding=(1, 1), bias=False)\n",
       "      (bn2): BatchNorm2d(512, eps=1e-05, momentum=0.1, affine=True, track_running_stats=True)\n",
       "      (downsample): Sequential(\n",
       "        (0): Conv2d(256, 512, kernel_size=(1, 1), stride=(2, 2), bias=False)\n",
       "        (1): BatchNorm2d(512, eps=1e-05, momentum=0.1, affine=True, track_running_stats=True)\n",
       "      )\n",
       "    )\n",
       "    (1): BasicBlock(\n",
       "      (conv1): Conv2d(512, 512, kernel_size=(3, 3), stride=(1, 1), padding=(1, 1), bias=False)\n",
       "      (bn1): BatchNorm2d(512, eps=1e-05, momentum=0.1, affine=True, track_running_stats=True)\n",
       "      (relu): ReLU(inplace)\n",
       "      (conv2): Conv2d(512, 512, kernel_size=(3, 3), stride=(1, 1), padding=(1, 1), bias=False)\n",
       "      (bn2): BatchNorm2d(512, eps=1e-05, momentum=0.1, affine=True, track_running_stats=True)\n",
       "    )\n",
       "  )\n",
       "  (avgpool): AvgPool2d(kernel_size=7, stride=1, padding=0)\n",
       "  (fc): Linear(in_features=512, out_features=1000, bias=True)\n",
       ")"
      ]
     },
     "execution_count": 39,
     "metadata": {},
     "output_type": "execute_result"
    }
   ],
   "source": [
    "resnet = torchvision.models.resnet18()\n",
    "resnet"
   ]
  },
  {
   "cell_type": "code",
   "execution_count": 40,
   "metadata": {},
   "outputs": [],
   "source": [
    "import hiddenlayer as hl"
   ]
  },
  {
   "cell_type": "code",
   "execution_count": 41,
   "metadata": {},
   "outputs": [
    {
     "data": {
      "image/svg+xml": [
       "<?xml version=\"1.0\" encoding=\"UTF-8\" standalone=\"no\"?>\n",
       "<!DOCTYPE svg PUBLIC \"-//W3C//DTD SVG 1.1//EN\"\n",
       " \"http://www.w3.org/Graphics/SVG/1.1/DTD/svg11.dtd\">\n",
       "<!-- Generated by graphviz version 2.40.1 (20161225.0304)\n",
       " -->\n",
       "<!-- Title: %3 Pages: 1 -->\n",
       "<svg width=\"444pt\" height=\"3609pt\"\n",
       " viewBox=\"0.00 0.00 444.00 3609.00\" xmlns=\"http://www.w3.org/2000/svg\" xmlns:xlink=\"http://www.w3.org/1999/xlink\">\n",
       "<g id=\"graph0\" class=\"graph\" transform=\"scale(1 1) rotate(0) translate(72 3573)\">\n",
       "<title>%3</title>\n",
       "<polygon fill=\"#ffffff\" stroke=\"transparent\" points=\"-72,36 -72,-3573 372,-3573 372,36 -72,36\"/>\n",
       "<!-- ResNet/MaxPool2d[maxpool]/outputs/130 -->\n",
       "<g id=\"node1\" class=\"node\">\n",
       "<title>ResNet/MaxPool2d[maxpool]/outputs/130</title>\n",
       "<polygon fill=\"#e8e8e8\" stroke=\"#000000\" points=\"165,-3454 95,-3454 95,-3418 165,-3418 165,-3454\"/>\n",
       "<text text-anchor=\"start\" x=\"103\" y=\"-3433\" font-family=\"Times\" font-size=\"10.00\" fill=\"#000000\">MaxPool3x3</text>\n",
       "</g>\n",
       "<!-- ResNet/Sequential[layer1]/BasicBlock[0]/outputs/144 -->\n",
       "<g id=\"node2\" class=\"node\">\n",
       "<title>ResNet/Sequential[layer1]/BasicBlock[0]/outputs/144</title>\n",
       "<polygon fill=\"#e8e8e8\" stroke=\"#000000\" points=\"157,-3205 103,-3205 103,-3169 157,-3169 157,-3205\"/>\n",
       "<text text-anchor=\"start\" x=\"121\" y=\"-3184\" font-family=\"Times\" font-size=\"10.00\" fill=\"#000000\">Add</text>\n",
       "</g>\n",
       "<!-- ResNet/MaxPool2d[maxpool]/outputs/130&#45;&gt;ResNet/Sequential[layer1]/BasicBlock[0]/outputs/144 -->\n",
       "<g id=\"edge1\" class=\"edge\">\n",
       "<title>ResNet/MaxPool2d[maxpool]/outputs/130&#45;&gt;ResNet/Sequential[layer1]/BasicBlock[0]/outputs/144</title>\n",
       "<path fill=\"none\" stroke=\"#000000\" d=\"M130,-3417.6904C130,-3374.5957 130,-3266.5283 130,-3215.0767\"/>\n",
       "<polygon fill=\"#000000\" stroke=\"#000000\" points=\"133.5001,-3215.0005 130,-3205.0006 126.5001,-3215.0006 133.5001,-3215.0005\"/>\n",
       "<text text-anchor=\"middle\" x=\"156.5\" y=\"-3309\" font-family=\"Times\" font-size=\"10.00\" fill=\"#000000\">1x64x56x56</text>\n",
       "</g>\n",
       "<!-- 3504095414457926315 -->\n",
       "<g id=\"node30\" class=\"node\">\n",
       "<title>3504095414457926315</title>\n",
       "<polygon fill=\"#e8e8e8\" stroke=\"#000000\" points=\"282,-3371 142,-3371 142,-3335 282,-3335 282,-3371\"/>\n",
       "<text text-anchor=\"start\" x=\"150\" y=\"-3350\" font-family=\"Times\" font-size=\"10.00\" fill=\"#000000\">Conv3x3 &gt; BatchNorm &gt; Relu</text>\n",
       "</g>\n",
       "<!-- ResNet/MaxPool2d[maxpool]/outputs/130&#45;&gt;3504095414457926315 -->\n",
       "<g id=\"edge27\" class=\"edge\">\n",
       "<title>ResNet/MaxPool2d[maxpool]/outputs/130&#45;&gt;3504095414457926315</title>\n",
       "<path fill=\"none\" stroke=\"#000000\" d=\"M147.7928,-3417.9902C159.2116,-3406.4321 174.2115,-3391.2493 186.8414,-3378.4655\"/>\n",
       "<polygon fill=\"#000000\" stroke=\"#000000\" points=\"189.4205,-3380.8349 193.9588,-3371.2612 184.4408,-3375.9152 189.4205,-3380.8349\"/>\n",
       "<text text-anchor=\"middle\" x=\"201.5\" y=\"-3392\" font-family=\"Times\" font-size=\"10.00\" fill=\"#000000\">1x64x56x56</text>\n",
       "</g>\n",
       "<!-- ResNet/Sequential[layer1]/BasicBlock[0]/ReLU[relu]/outputs/145 -->\n",
       "<g id=\"node3\" class=\"node\">\n",
       "<title>ResNet/Sequential[layer1]/BasicBlock[0]/ReLU[relu]/outputs/145</title>\n",
       "<polygon fill=\"#e8e8e8\" stroke=\"#000000\" points=\"157,-3122 103,-3122 103,-3086 157,-3086 157,-3122\"/>\n",
       "<text text-anchor=\"start\" x=\"120\" y=\"-3101\" font-family=\"Times\" font-size=\"10.00\" fill=\"#000000\">Relu</text>\n",
       "</g>\n",
       "<!-- ResNet/Sequential[layer1]/BasicBlock[0]/outputs/144&#45;&gt;ResNet/Sequential[layer1]/BasicBlock[0]/ReLU[relu]/outputs/145 -->\n",
       "<g id=\"edge2\" class=\"edge\">\n",
       "<title>ResNet/Sequential[layer1]/BasicBlock[0]/outputs/144&#45;&gt;ResNet/Sequential[layer1]/BasicBlock[0]/ReLU[relu]/outputs/145</title>\n",
       "<path fill=\"none\" stroke=\"#000000\" d=\"M130,-3168.9902C130,-3158.2963 130,-3144.4994 130,-3132.3706\"/>\n",
       "<polygon fill=\"#000000\" stroke=\"#000000\" points=\"133.5001,-3132.2612 130,-3122.2612 126.5001,-3132.2613 133.5001,-3132.2612\"/>\n",
       "<text text-anchor=\"middle\" x=\"156.5\" y=\"-3143\" font-family=\"Times\" font-size=\"10.00\" fill=\"#000000\">1x64x56x56</text>\n",
       "</g>\n",
       "<!-- ResNet/Sequential[layer1]/BasicBlock[1]/outputs/159 -->\n",
       "<g id=\"node4\" class=\"node\">\n",
       "<title>ResNet/Sequential[layer1]/BasicBlock[1]/outputs/159</title>\n",
       "<polygon fill=\"#e8e8e8\" stroke=\"#000000\" points=\"157,-2873 103,-2873 103,-2837 157,-2837 157,-2873\"/>\n",
       "<text text-anchor=\"start\" x=\"121\" y=\"-2852\" font-family=\"Times\" font-size=\"10.00\" fill=\"#000000\">Add</text>\n",
       "</g>\n",
       "<!-- ResNet/Sequential[layer1]/BasicBlock[0]/ReLU[relu]/outputs/145&#45;&gt;ResNet/Sequential[layer1]/BasicBlock[1]/outputs/159 -->\n",
       "<g id=\"edge3\" class=\"edge\">\n",
       "<title>ResNet/Sequential[layer1]/BasicBlock[0]/ReLU[relu]/outputs/145&#45;&gt;ResNet/Sequential[layer1]/BasicBlock[1]/outputs/159</title>\n",
       "<path fill=\"none\" stroke=\"#000000\" d=\"M130,-3085.6904C130,-3042.5957 130,-2934.5283 130,-2883.0767\"/>\n",
       "<polygon fill=\"#000000\" stroke=\"#000000\" points=\"133.5001,-2883.0005 130,-2873.0006 126.5001,-2883.0006 133.5001,-2883.0005\"/>\n",
       "<text text-anchor=\"middle\" x=\"156.5\" y=\"-2977\" font-family=\"Times\" font-size=\"10.00\" fill=\"#000000\">1x64x56x56</text>\n",
       "</g>\n",
       "<!-- 1381931652503287506 -->\n",
       "<g id=\"node31\" class=\"node\">\n",
       "<title>1381931652503287506</title>\n",
       "<polygon fill=\"#e8e8e8\" stroke=\"#000000\" points=\"282,-3039 142,-3039 142,-3003 282,-3003 282,-3039\"/>\n",
       "<text text-anchor=\"start\" x=\"150\" y=\"-3018\" font-family=\"Times\" font-size=\"10.00\" fill=\"#000000\">Conv3x3 &gt; BatchNorm &gt; Relu</text>\n",
       "</g>\n",
       "<!-- ResNet/Sequential[layer1]/BasicBlock[0]/ReLU[relu]/outputs/145&#45;&gt;1381931652503287506 -->\n",
       "<g id=\"edge28\" class=\"edge\">\n",
       "<title>ResNet/Sequential[layer1]/BasicBlock[0]/ReLU[relu]/outputs/145&#45;&gt;1381931652503287506</title>\n",
       "<path fill=\"none\" stroke=\"#000000\" d=\"M147.7928,-3085.9902C159.2116,-3074.4321 174.2115,-3059.2493 186.8414,-3046.4655\"/>\n",
       "<polygon fill=\"#000000\" stroke=\"#000000\" points=\"189.4205,-3048.8349 193.9588,-3039.2612 184.4408,-3043.9152 189.4205,-3048.8349\"/>\n",
       "<text text-anchor=\"middle\" x=\"201.5\" y=\"-3060\" font-family=\"Times\" font-size=\"10.00\" fill=\"#000000\">1x64x56x56</text>\n",
       "</g>\n",
       "<!-- ResNet/Sequential[layer1]/BasicBlock[1]/ReLU[relu]/outputs/160 -->\n",
       "<g id=\"node5\" class=\"node\">\n",
       "<title>ResNet/Sequential[layer1]/BasicBlock[1]/ReLU[relu]/outputs/160</title>\n",
       "<polygon fill=\"#e8e8e8\" stroke=\"#000000\" points=\"157,-2790 103,-2790 103,-2754 157,-2754 157,-2790\"/>\n",
       "<text text-anchor=\"start\" x=\"120\" y=\"-2769\" font-family=\"Times\" font-size=\"10.00\" fill=\"#000000\">Relu</text>\n",
       "</g>\n",
       "<!-- ResNet/Sequential[layer1]/BasicBlock[1]/outputs/159&#45;&gt;ResNet/Sequential[layer1]/BasicBlock[1]/ReLU[relu]/outputs/160 -->\n",
       "<g id=\"edge4\" class=\"edge\">\n",
       "<title>ResNet/Sequential[layer1]/BasicBlock[1]/outputs/159&#45;&gt;ResNet/Sequential[layer1]/BasicBlock[1]/ReLU[relu]/outputs/160</title>\n",
       "<path fill=\"none\" stroke=\"#000000\" d=\"M130,-2836.9902C130,-2826.2963 130,-2812.4994 130,-2800.3706\"/>\n",
       "<polygon fill=\"#000000\" stroke=\"#000000\" points=\"133.5001,-2800.2612 130,-2790.2612 126.5001,-2800.2613 133.5001,-2800.2612\"/>\n",
       "<text text-anchor=\"middle\" x=\"156.5\" y=\"-2811\" font-family=\"Times\" font-size=\"10.00\" fill=\"#000000\">1x64x56x56</text>\n",
       "</g>\n",
       "<!-- 3643373107149370930 -->\n",
       "<g id=\"node32\" class=\"node\">\n",
       "<title>3643373107149370930</title>\n",
       "<polygon fill=\"#e8e8e8\" stroke=\"#000000\" points=\"140,-2707 0,-2707 0,-2671 140,-2671 140,-2707\"/>\n",
       "<text text-anchor=\"start\" x=\"8\" y=\"-2686\" font-family=\"Times\" font-size=\"10.00\" fill=\"#000000\">Conv3x3 &gt; BatchNorm &gt; Relu</text>\n",
       "</g>\n",
       "<!-- ResNet/Sequential[layer1]/BasicBlock[1]/ReLU[relu]/outputs/160&#45;&gt;3643373107149370930 -->\n",
       "<g id=\"edge29\" class=\"edge\">\n",
       "<title>ResNet/Sequential[layer1]/BasicBlock[1]/ReLU[relu]/outputs/160&#45;&gt;3643373107149370930</title>\n",
       "<path fill=\"none\" stroke=\"#000000\" d=\"M112.6924,-2753.8798C107.7208,-2748.3247 102.4458,-2742.0725 98,-2736 93.4483,-2729.7829 88.9696,-2722.7863 84.9747,-2716.1285\"/>\n",
       "<polygon fill=\"#000000\" stroke=\"#000000\" points=\"87.9258,-2714.2412 79.8656,-2707.3649 81.8784,-2717.7668 87.9258,-2714.2412\"/>\n",
       "<text text-anchor=\"middle\" x=\"124.5\" y=\"-2728\" font-family=\"Times\" font-size=\"10.00\" fill=\"#000000\">1x64x56x56</text>\n",
       "</g>\n",
       "<!-- 823161091317767605 -->\n",
       "<g id=\"node41\" class=\"node\">\n",
       "<title>823161091317767605</title>\n",
       "<polygon fill=\"#e8e8e8\" stroke=\"#000000\" points=\"234.5,-2653 123.5,-2653 123.5,-2617 234.5,-2617 234.5,-2653\"/>\n",
       "<text text-anchor=\"start\" x=\"132\" y=\"-2632\" font-family=\"Times\" font-size=\"10.00\" fill=\"#000000\">Conv1x1 &gt; BatchNorm</text>\n",
       "</g>\n",
       "<!-- ResNet/Sequential[layer1]/BasicBlock[1]/ReLU[relu]/outputs/160&#45;&gt;823161091317767605 -->\n",
       "<g id=\"edge41\" class=\"edge\">\n",
       "<title>ResNet/Sequential[layer1]/BasicBlock[1]/ReLU[relu]/outputs/160&#45;&gt;823161091317767605</title>\n",
       "<path fill=\"none\" stroke=\"#000000\" d=\"M141.8452,-2753.7882C145.1215,-2748.2306 148.4685,-2741.9999 151,-2736 160.9989,-2712.3012 168.4928,-2683.9789 173.1993,-2663.3651\"/>\n",
       "<polygon fill=\"#000000\" stroke=\"#000000\" points=\"176.6714,-2663.8723 175.405,-2653.3534 169.8354,-2662.3662 176.6714,-2663.8723\"/>\n",
       "<text text-anchor=\"middle\" x=\"181.5\" y=\"-2728\" font-family=\"Times\" font-size=\"10.00\" fill=\"#000000\">1x64x56x56</text>\n",
       "</g>\n",
       "<!-- ResNet/Sequential[layer2]/BasicBlock[0]/outputs/180 -->\n",
       "<g id=\"node6\" class=\"node\">\n",
       "<title>ResNet/Sequential[layer2]/BasicBlock[0]/outputs/180</title>\n",
       "<polygon fill=\"#e8e8e8\" stroke=\"#000000\" points=\"161,-2516 107,-2516 107,-2480 161,-2480 161,-2516\"/>\n",
       "<text text-anchor=\"start\" x=\"125\" y=\"-2495\" font-family=\"Times\" font-size=\"10.00\" fill=\"#000000\">Add</text>\n",
       "</g>\n",
       "<!-- ResNet/Sequential[layer2]/BasicBlock[0]/ReLU[relu]/outputs/181 -->\n",
       "<g id=\"node7\" class=\"node\">\n",
       "<title>ResNet/Sequential[layer2]/BasicBlock[0]/ReLU[relu]/outputs/181</title>\n",
       "<polygon fill=\"#e8e8e8\" stroke=\"#000000\" points=\"161,-2433 107,-2433 107,-2397 161,-2397 161,-2433\"/>\n",
       "<text text-anchor=\"start\" x=\"124\" y=\"-2412\" font-family=\"Times\" font-size=\"10.00\" fill=\"#000000\">Relu</text>\n",
       "</g>\n",
       "<!-- ResNet/Sequential[layer2]/BasicBlock[0]/outputs/180&#45;&gt;ResNet/Sequential[layer2]/BasicBlock[0]/ReLU[relu]/outputs/181 -->\n",
       "<g id=\"edge5\" class=\"edge\">\n",
       "<title>ResNet/Sequential[layer2]/BasicBlock[0]/outputs/180&#45;&gt;ResNet/Sequential[layer2]/BasicBlock[0]/ReLU[relu]/outputs/181</title>\n",
       "<path fill=\"none\" stroke=\"#000000\" d=\"M134,-2479.9902C134,-2469.2963 134,-2455.4994 134,-2443.3706\"/>\n",
       "<polygon fill=\"#000000\" stroke=\"#000000\" points=\"137.5001,-2443.2612 134,-2433.2612 130.5001,-2443.2613 137.5001,-2443.2612\"/>\n",
       "<text text-anchor=\"middle\" x=\"163\" y=\"-2454\" font-family=\"Times\" font-size=\"10.00\" fill=\"#000000\">1x128x28x28</text>\n",
       "</g>\n",
       "<!-- ResNet/Sequential[layer2]/BasicBlock[1]/outputs/195 -->\n",
       "<g id=\"node8\" class=\"node\">\n",
       "<title>ResNet/Sequential[layer2]/BasicBlock[1]/outputs/195</title>\n",
       "<polygon fill=\"#e8e8e8\" stroke=\"#000000\" points=\"161,-2184 107,-2184 107,-2148 161,-2148 161,-2184\"/>\n",
       "<text text-anchor=\"start\" x=\"125\" y=\"-2163\" font-family=\"Times\" font-size=\"10.00\" fill=\"#000000\">Add</text>\n",
       "</g>\n",
       "<!-- ResNet/Sequential[layer2]/BasicBlock[0]/ReLU[relu]/outputs/181&#45;&gt;ResNet/Sequential[layer2]/BasicBlock[1]/outputs/195 -->\n",
       "<g id=\"edge6\" class=\"edge\">\n",
       "<title>ResNet/Sequential[layer2]/BasicBlock[0]/ReLU[relu]/outputs/181&#45;&gt;ResNet/Sequential[layer2]/BasicBlock[1]/outputs/195</title>\n",
       "<path fill=\"none\" stroke=\"#000000\" d=\"M134,-2396.6904C134,-2353.5957 134,-2245.5283 134,-2194.0767\"/>\n",
       "<polygon fill=\"#000000\" stroke=\"#000000\" points=\"137.5001,-2194.0005 134,-2184.0006 130.5001,-2194.0006 137.5001,-2194.0005\"/>\n",
       "<text text-anchor=\"middle\" x=\"163\" y=\"-2288\" font-family=\"Times\" font-size=\"10.00\" fill=\"#000000\">1x128x28x28</text>\n",
       "</g>\n",
       "<!-- 14168321076641026214 -->\n",
       "<g id=\"node33\" class=\"node\">\n",
       "<title>14168321076641026214</title>\n",
       "<polygon fill=\"#e8e8e8\" stroke=\"#000000\" points=\"286,-2350 146,-2350 146,-2314 286,-2314 286,-2350\"/>\n",
       "<text text-anchor=\"start\" x=\"154\" y=\"-2329\" font-family=\"Times\" font-size=\"10.00\" fill=\"#000000\">Conv3x3 &gt; BatchNorm &gt; Relu</text>\n",
       "</g>\n",
       "<!-- ResNet/Sequential[layer2]/BasicBlock[0]/ReLU[relu]/outputs/181&#45;&gt;14168321076641026214 -->\n",
       "<g id=\"edge30\" class=\"edge\">\n",
       "<title>ResNet/Sequential[layer2]/BasicBlock[0]/ReLU[relu]/outputs/181&#45;&gt;14168321076641026214</title>\n",
       "<path fill=\"none\" stroke=\"#000000\" d=\"M151.7928,-2396.9902C163.2116,-2385.4321 178.2115,-2370.2493 190.8414,-2357.4655\"/>\n",
       "<polygon fill=\"#000000\" stroke=\"#000000\" points=\"193.4205,-2359.8349 197.9588,-2350.2612 188.4408,-2354.9152 193.4205,-2359.8349\"/>\n",
       "<text text-anchor=\"middle\" x=\"208\" y=\"-2371\" font-family=\"Times\" font-size=\"10.00\" fill=\"#000000\">1x128x28x28</text>\n",
       "</g>\n",
       "<!-- ResNet/Sequential[layer2]/BasicBlock[1]/ReLU[relu]/outputs/196 -->\n",
       "<g id=\"node9\" class=\"node\">\n",
       "<title>ResNet/Sequential[layer2]/BasicBlock[1]/ReLU[relu]/outputs/196</title>\n",
       "<polygon fill=\"#e8e8e8\" stroke=\"#000000\" points=\"161,-2101 107,-2101 107,-2065 161,-2065 161,-2101\"/>\n",
       "<text text-anchor=\"start\" x=\"124\" y=\"-2080\" font-family=\"Times\" font-size=\"10.00\" fill=\"#000000\">Relu</text>\n",
       "</g>\n",
       "<!-- ResNet/Sequential[layer2]/BasicBlock[1]/outputs/195&#45;&gt;ResNet/Sequential[layer2]/BasicBlock[1]/ReLU[relu]/outputs/196 -->\n",
       "<g id=\"edge7\" class=\"edge\">\n",
       "<title>ResNet/Sequential[layer2]/BasicBlock[1]/outputs/195&#45;&gt;ResNet/Sequential[layer2]/BasicBlock[1]/ReLU[relu]/outputs/196</title>\n",
       "<path fill=\"none\" stroke=\"#000000\" d=\"M134,-2147.9902C134,-2137.2963 134,-2123.4994 134,-2111.3706\"/>\n",
       "<polygon fill=\"#000000\" stroke=\"#000000\" points=\"137.5001,-2111.2612 134,-2101.2612 130.5001,-2111.2613 137.5001,-2111.2612\"/>\n",
       "<text text-anchor=\"middle\" x=\"163\" y=\"-2122\" font-family=\"Times\" font-size=\"10.00\" fill=\"#000000\">1x128x28x28</text>\n",
       "</g>\n",
       "<!-- 2580259380100426387 -->\n",
       "<g id=\"node34\" class=\"node\">\n",
       "<title>2580259380100426387</title>\n",
       "<polygon fill=\"#e8e8e8\" stroke=\"#000000\" points=\"147,-2018 7,-2018 7,-1982 147,-1982 147,-2018\"/>\n",
       "<text text-anchor=\"start\" x=\"15\" y=\"-1997\" font-family=\"Times\" font-size=\"10.00\" fill=\"#000000\">Conv3x3 &gt; BatchNorm &gt; Relu</text>\n",
       "</g>\n",
       "<!-- ResNet/Sequential[layer2]/BasicBlock[1]/ReLU[relu]/outputs/196&#45;&gt;2580259380100426387 -->\n",
       "<g id=\"edge31\" class=\"edge\">\n",
       "<title>ResNet/Sequential[layer2]/BasicBlock[1]/ReLU[relu]/outputs/196&#45;&gt;2580259380100426387</title>\n",
       "<path fill=\"none\" stroke=\"#000000\" d=\"M114.8576,-2064.8711C109.6729,-2059.4153 104.3088,-2053.2182 100,-2047 95.8284,-2040.9798 92.0031,-2034.0898 88.7197,-2027.475\"/>\n",
       "<polygon fill=\"#000000\" stroke=\"#000000\" points=\"91.7412,-2025.6751 84.3198,-2018.1138 85.406,-2028.6528 91.7412,-2025.6751\"/>\n",
       "<text text-anchor=\"middle\" x=\"129\" y=\"-2039\" font-family=\"Times\" font-size=\"10.00\" fill=\"#000000\">1x128x28x28</text>\n",
       "</g>\n",
       "<!-- 14070466592724973727 -->\n",
       "<g id=\"node44\" class=\"node\">\n",
       "<title>14070466592724973727</title>\n",
       "<polygon fill=\"#e8e8e8\" stroke=\"#000000\" points=\"241.5,-1964 130.5,-1964 130.5,-1928 241.5,-1928 241.5,-1964\"/>\n",
       "<text text-anchor=\"start\" x=\"139\" y=\"-1943\" font-family=\"Times\" font-size=\"10.00\" fill=\"#000000\">Conv1x1 &gt; BatchNorm</text>\n",
       "</g>\n",
       "<!-- ResNet/Sequential[layer2]/BasicBlock[1]/ReLU[relu]/outputs/196&#45;&gt;14070466592724973727 -->\n",
       "<g id=\"edge47\" class=\"edge\">\n",
       "<title>ResNet/Sequential[layer2]/BasicBlock[1]/ReLU[relu]/outputs/196&#45;&gt;14070466592724973727</title>\n",
       "<path fill=\"none\" stroke=\"#000000\" d=\"M147.6379,-2064.974C151.385,-2059.4216 155.1866,-2053.1472 158,-2047 168.7689,-2023.4705 176.2139,-1994.9149 180.7047,-1974.1784\"/>\n",
       "<polygon fill=\"#000000\" stroke=\"#000000\" points=\"184.188,-1974.6169 182.7858,-1964.1153 177.3331,-1973.1992 184.188,-1974.6169\"/>\n",
       "<text text-anchor=\"middle\" x=\"191\" y=\"-2039\" font-family=\"Times\" font-size=\"10.00\" fill=\"#000000\">1x128x28x28</text>\n",
       "</g>\n",
       "<!-- ResNet/Sequential[layer3]/BasicBlock[0]/outputs/216 -->\n",
       "<g id=\"node10\" class=\"node\">\n",
       "<title>ResNet/Sequential[layer3]/BasicBlock[0]/outputs/216</title>\n",
       "<polygon fill=\"#e8e8e8\" stroke=\"#000000\" points=\"168,-1827 114,-1827 114,-1791 168,-1791 168,-1827\"/>\n",
       "<text text-anchor=\"start\" x=\"132\" y=\"-1806\" font-family=\"Times\" font-size=\"10.00\" fill=\"#000000\">Add</text>\n",
       "</g>\n",
       "<!-- ResNet/Sequential[layer3]/BasicBlock[0]/ReLU[relu]/outputs/217 -->\n",
       "<g id=\"node11\" class=\"node\">\n",
       "<title>ResNet/Sequential[layer3]/BasicBlock[0]/ReLU[relu]/outputs/217</title>\n",
       "<polygon fill=\"#e8e8e8\" stroke=\"#000000\" points=\"168,-1744 114,-1744 114,-1708 168,-1708 168,-1744\"/>\n",
       "<text text-anchor=\"start\" x=\"131\" y=\"-1723\" font-family=\"Times\" font-size=\"10.00\" fill=\"#000000\">Relu</text>\n",
       "</g>\n",
       "<!-- ResNet/Sequential[layer3]/BasicBlock[0]/outputs/216&#45;&gt;ResNet/Sequential[layer3]/BasicBlock[0]/ReLU[relu]/outputs/217 -->\n",
       "<g id=\"edge8\" class=\"edge\">\n",
       "<title>ResNet/Sequential[layer3]/BasicBlock[0]/outputs/216&#45;&gt;ResNet/Sequential[layer3]/BasicBlock[0]/ReLU[relu]/outputs/217</title>\n",
       "<path fill=\"none\" stroke=\"#000000\" d=\"M141,-1790.9902C141,-1780.2963 141,-1766.4994 141,-1754.3706\"/>\n",
       "<polygon fill=\"#000000\" stroke=\"#000000\" points=\"144.5001,-1754.2612 141,-1744.2612 137.5001,-1754.2613 144.5001,-1754.2612\"/>\n",
       "<text text-anchor=\"middle\" x=\"170\" y=\"-1765\" font-family=\"Times\" font-size=\"10.00\" fill=\"#000000\">1x256x14x14</text>\n",
       "</g>\n",
       "<!-- ResNet/Sequential[layer3]/BasicBlock[1]/outputs/231 -->\n",
       "<g id=\"node12\" class=\"node\">\n",
       "<title>ResNet/Sequential[layer3]/BasicBlock[1]/outputs/231</title>\n",
       "<polygon fill=\"#e8e8e8\" stroke=\"#000000\" points=\"168,-1495 114,-1495 114,-1459 168,-1459 168,-1495\"/>\n",
       "<text text-anchor=\"start\" x=\"132\" y=\"-1474\" font-family=\"Times\" font-size=\"10.00\" fill=\"#000000\">Add</text>\n",
       "</g>\n",
       "<!-- ResNet/Sequential[layer3]/BasicBlock[0]/ReLU[relu]/outputs/217&#45;&gt;ResNet/Sequential[layer3]/BasicBlock[1]/outputs/231 -->\n",
       "<g id=\"edge9\" class=\"edge\">\n",
       "<title>ResNet/Sequential[layer3]/BasicBlock[0]/ReLU[relu]/outputs/217&#45;&gt;ResNet/Sequential[layer3]/BasicBlock[1]/outputs/231</title>\n",
       "<path fill=\"none\" stroke=\"#000000\" d=\"M141,-1707.6904C141,-1664.5957 141,-1556.5283 141,-1505.0767\"/>\n",
       "<polygon fill=\"#000000\" stroke=\"#000000\" points=\"144.5001,-1505.0005 141,-1495.0006 137.5001,-1505.0006 144.5001,-1505.0005\"/>\n",
       "<text text-anchor=\"middle\" x=\"170\" y=\"-1599\" font-family=\"Times\" font-size=\"10.00\" fill=\"#000000\">1x256x14x14</text>\n",
       "</g>\n",
       "<!-- 1711263539456254945 -->\n",
       "<g id=\"node35\" class=\"node\">\n",
       "<title>1711263539456254945</title>\n",
       "<polygon fill=\"#e8e8e8\" stroke=\"#000000\" points=\"293,-1661 153,-1661 153,-1625 293,-1625 293,-1661\"/>\n",
       "<text text-anchor=\"start\" x=\"161\" y=\"-1640\" font-family=\"Times\" font-size=\"10.00\" fill=\"#000000\">Conv3x3 &gt; BatchNorm &gt; Relu</text>\n",
       "</g>\n",
       "<!-- ResNet/Sequential[layer3]/BasicBlock[0]/ReLU[relu]/outputs/217&#45;&gt;1711263539456254945 -->\n",
       "<g id=\"edge32\" class=\"edge\">\n",
       "<title>ResNet/Sequential[layer3]/BasicBlock[0]/ReLU[relu]/outputs/217&#45;&gt;1711263539456254945</title>\n",
       "<path fill=\"none\" stroke=\"#000000\" d=\"M158.7928,-1707.9902C170.2116,-1696.4321 185.2115,-1681.2493 197.8414,-1668.4655\"/>\n",
       "<polygon fill=\"#000000\" stroke=\"#000000\" points=\"200.4205,-1670.8349 204.9588,-1661.2612 195.4408,-1665.9152 200.4205,-1670.8349\"/>\n",
       "<text text-anchor=\"middle\" x=\"215\" y=\"-1682\" font-family=\"Times\" font-size=\"10.00\" fill=\"#000000\">1x256x14x14</text>\n",
       "</g>\n",
       "<!-- ResNet/Sequential[layer3]/BasicBlock[1]/ReLU[relu]/outputs/232 -->\n",
       "<g id=\"node13\" class=\"node\">\n",
       "<title>ResNet/Sequential[layer3]/BasicBlock[1]/ReLU[relu]/outputs/232</title>\n",
       "<polygon fill=\"#e8e8e8\" stroke=\"#000000\" points=\"168,-1412 114,-1412 114,-1376 168,-1376 168,-1412\"/>\n",
       "<text text-anchor=\"start\" x=\"131\" y=\"-1391\" font-family=\"Times\" font-size=\"10.00\" fill=\"#000000\">Relu</text>\n",
       "</g>\n",
       "<!-- ResNet/Sequential[layer3]/BasicBlock[1]/outputs/231&#45;&gt;ResNet/Sequential[layer3]/BasicBlock[1]/ReLU[relu]/outputs/232 -->\n",
       "<g id=\"edge10\" class=\"edge\">\n",
       "<title>ResNet/Sequential[layer3]/BasicBlock[1]/outputs/231&#45;&gt;ResNet/Sequential[layer3]/BasicBlock[1]/ReLU[relu]/outputs/232</title>\n",
       "<path fill=\"none\" stroke=\"#000000\" d=\"M141,-1458.9902C141,-1448.2963 141,-1434.4994 141,-1422.3706\"/>\n",
       "<polygon fill=\"#000000\" stroke=\"#000000\" points=\"144.5001,-1422.2612 141,-1412.2612 137.5001,-1422.2613 144.5001,-1422.2612\"/>\n",
       "<text text-anchor=\"middle\" x=\"170\" y=\"-1433\" font-family=\"Times\" font-size=\"10.00\" fill=\"#000000\">1x256x14x14</text>\n",
       "</g>\n",
       "<!-- 8112943668119962826 -->\n",
       "<g id=\"node36\" class=\"node\">\n",
       "<title>8112943668119962826</title>\n",
       "<polygon fill=\"#e8e8e8\" stroke=\"#000000\" points=\"154,-1329 14,-1329 14,-1293 154,-1293 154,-1329\"/>\n",
       "<text text-anchor=\"start\" x=\"22\" y=\"-1308\" font-family=\"Times\" font-size=\"10.00\" fill=\"#000000\">Conv3x3 &gt; BatchNorm &gt; Relu</text>\n",
       "</g>\n",
       "<!-- ResNet/Sequential[layer3]/BasicBlock[1]/ReLU[relu]/outputs/232&#45;&gt;8112943668119962826 -->\n",
       "<g id=\"edge33\" class=\"edge\">\n",
       "<title>ResNet/Sequential[layer3]/BasicBlock[1]/ReLU[relu]/outputs/232&#45;&gt;8112943668119962826</title>\n",
       "<path fill=\"none\" stroke=\"#000000\" d=\"M120.1599,-1375.7424C114.7864,-1370.379 109.3096,-1364.2617 105,-1358 100.9148,-1352.0644 97.3198,-1345.2056 94.3115,-1338.594\"/>\n",
       "<polygon fill=\"#000000\" stroke=\"#000000\" points=\"97.4625,-1337.0593 90.335,-1329.2203 91.0183,-1339.7931 97.4625,-1337.0593\"/>\n",
       "<text text-anchor=\"middle\" x=\"134\" y=\"-1350\" font-family=\"Times\" font-size=\"10.00\" fill=\"#000000\">1x256x14x14</text>\n",
       "</g>\n",
       "<!-- 13975138822073118306 -->\n",
       "<g id=\"node47\" class=\"node\">\n",
       "<title>13975138822073118306</title>\n",
       "<polygon fill=\"#e8e8e8\" stroke=\"#000000\" points=\"243.5,-1275 132.5,-1275 132.5,-1239 243.5,-1239 243.5,-1275\"/>\n",
       "<text text-anchor=\"start\" x=\"141\" y=\"-1254\" font-family=\"Times\" font-size=\"10.00\" fill=\"#000000\">Conv1x1 &gt; BatchNorm</text>\n",
       "</g>\n",
       "<!-- ResNet/Sequential[layer3]/BasicBlock[1]/ReLU[relu]/outputs/232&#45;&gt;13975138822073118306 -->\n",
       "<g id=\"edge53\" class=\"edge\">\n",
       "<title>ResNet/Sequential[layer3]/BasicBlock[1]/ReLU[relu]/outputs/232&#45;&gt;13975138822073118306</title>\n",
       "<path fill=\"none\" stroke=\"#000000\" d=\"M153.5501,-1375.8931C156.9863,-1370.3384 160.4596,-1364.0831 163,-1358 172.8995,-1334.2952 179.5152,-1305.7591 183.4406,-1285.0745\"/>\n",
       "<polygon fill=\"#000000\" stroke=\"#000000\" points=\"186.9197,-1285.5033 185.2513,-1275.0407 180.031,-1284.2601 186.9197,-1285.5033\"/>\n",
       "<text text-anchor=\"middle\" x=\"195\" y=\"-1350\" font-family=\"Times\" font-size=\"10.00\" fill=\"#000000\">1x256x14x14</text>\n",
       "</g>\n",
       "<!-- ResNet/Sequential[layer4]/BasicBlock[0]/outputs/252 -->\n",
       "<g id=\"node14\" class=\"node\">\n",
       "<title>ResNet/Sequential[layer4]/BasicBlock[0]/outputs/252</title>\n",
       "<polygon fill=\"#e8e8e8\" stroke=\"#000000\" points=\"175,-1138 121,-1138 121,-1102 175,-1102 175,-1138\"/>\n",
       "<text text-anchor=\"start\" x=\"139\" y=\"-1117\" font-family=\"Times\" font-size=\"10.00\" fill=\"#000000\">Add</text>\n",
       "</g>\n",
       "<!-- ResNet/Sequential[layer4]/BasicBlock[0]/ReLU[relu]/outputs/253 -->\n",
       "<g id=\"node15\" class=\"node\">\n",
       "<title>ResNet/Sequential[layer4]/BasicBlock[0]/ReLU[relu]/outputs/253</title>\n",
       "<polygon fill=\"#e8e8e8\" stroke=\"#000000\" points=\"175,-1055 121,-1055 121,-1019 175,-1019 175,-1055\"/>\n",
       "<text text-anchor=\"start\" x=\"138\" y=\"-1034\" font-family=\"Times\" font-size=\"10.00\" fill=\"#000000\">Relu</text>\n",
       "</g>\n",
       "<!-- ResNet/Sequential[layer4]/BasicBlock[0]/outputs/252&#45;&gt;ResNet/Sequential[layer4]/BasicBlock[0]/ReLU[relu]/outputs/253 -->\n",
       "<g id=\"edge11\" class=\"edge\">\n",
       "<title>ResNet/Sequential[layer4]/BasicBlock[0]/outputs/252&#45;&gt;ResNet/Sequential[layer4]/BasicBlock[0]/ReLU[relu]/outputs/253</title>\n",
       "<path fill=\"none\" stroke=\"#000000\" d=\"M148,-1101.9902C148,-1091.2963 148,-1077.4994 148,-1065.3706\"/>\n",
       "<polygon fill=\"#000000\" stroke=\"#000000\" points=\"151.5001,-1065.2612 148,-1055.2612 144.5001,-1065.2613 151.5001,-1065.2612\"/>\n",
       "<text text-anchor=\"middle\" x=\"172\" y=\"-1076\" font-family=\"Times\" font-size=\"10.00\" fill=\"#000000\">1x512x7x7</text>\n",
       "</g>\n",
       "<!-- ResNet/Sequential[layer4]/BasicBlock[1]/outputs/267 -->\n",
       "<g id=\"node16\" class=\"node\">\n",
       "<title>ResNet/Sequential[layer4]/BasicBlock[1]/outputs/267</title>\n",
       "<polygon fill=\"#e8e8e8\" stroke=\"#000000\" points=\"175,-806 121,-806 121,-770 175,-770 175,-806\"/>\n",
       "<text text-anchor=\"start\" x=\"139\" y=\"-785\" font-family=\"Times\" font-size=\"10.00\" fill=\"#000000\">Add</text>\n",
       "</g>\n",
       "<!-- ResNet/Sequential[layer4]/BasicBlock[0]/ReLU[relu]/outputs/253&#45;&gt;ResNet/Sequential[layer4]/BasicBlock[1]/outputs/267 -->\n",
       "<g id=\"edge12\" class=\"edge\">\n",
       "<title>ResNet/Sequential[layer4]/BasicBlock[0]/ReLU[relu]/outputs/253&#45;&gt;ResNet/Sequential[layer4]/BasicBlock[1]/outputs/267</title>\n",
       "<path fill=\"none\" stroke=\"#000000\" d=\"M148,-1018.6904C148,-975.5957 148,-867.5283 148,-816.0767\"/>\n",
       "<polygon fill=\"#000000\" stroke=\"#000000\" points=\"151.5001,-816.0005 148,-806.0006 144.5001,-816.0006 151.5001,-816.0005\"/>\n",
       "<text text-anchor=\"middle\" x=\"172\" y=\"-910\" font-family=\"Times\" font-size=\"10.00\" fill=\"#000000\">1x512x7x7</text>\n",
       "</g>\n",
       "<!-- 19449150485369363 -->\n",
       "<g id=\"node37\" class=\"node\">\n",
       "<title>19449150485369363</title>\n",
       "<polygon fill=\"#e8e8e8\" stroke=\"#000000\" points=\"300,-972 160,-972 160,-936 300,-936 300,-972\"/>\n",
       "<text text-anchor=\"start\" x=\"168\" y=\"-951\" font-family=\"Times\" font-size=\"10.00\" fill=\"#000000\">Conv3x3 &gt; BatchNorm &gt; Relu</text>\n",
       "</g>\n",
       "<!-- ResNet/Sequential[layer4]/BasicBlock[0]/ReLU[relu]/outputs/253&#45;&gt;19449150485369363 -->\n",
       "<g id=\"edge34\" class=\"edge\">\n",
       "<title>ResNet/Sequential[layer4]/BasicBlock[0]/ReLU[relu]/outputs/253&#45;&gt;19449150485369363</title>\n",
       "<path fill=\"none\" stroke=\"#000000\" d=\"M165.7928,-1018.9902C177.2116,-1007.4321 192.2115,-992.2493 204.8414,-979.4655\"/>\n",
       "<polygon fill=\"#000000\" stroke=\"#000000\" points=\"207.4205,-981.8349 211.9588,-972.2612 202.4408,-976.9152 207.4205,-981.8349\"/>\n",
       "<text text-anchor=\"middle\" x=\"217\" y=\"-993\" font-family=\"Times\" font-size=\"10.00\" fill=\"#000000\">1x512x7x7</text>\n",
       "</g>\n",
       "<!-- ResNet/Sequential[layer4]/BasicBlock[1]/ReLU[relu]/outputs/268 -->\n",
       "<g id=\"node17\" class=\"node\">\n",
       "<title>ResNet/Sequential[layer4]/BasicBlock[1]/ReLU[relu]/outputs/268</title>\n",
       "<polygon fill=\"#e8e8e8\" stroke=\"#000000\" points=\"175,-723 121,-723 121,-687 175,-687 175,-723\"/>\n",
       "<text text-anchor=\"start\" x=\"138\" y=\"-702\" font-family=\"Times\" font-size=\"10.00\" fill=\"#000000\">Relu</text>\n",
       "</g>\n",
       "<!-- ResNet/Sequential[layer4]/BasicBlock[1]/outputs/267&#45;&gt;ResNet/Sequential[layer4]/BasicBlock[1]/ReLU[relu]/outputs/268 -->\n",
       "<g id=\"edge13\" class=\"edge\">\n",
       "<title>ResNet/Sequential[layer4]/BasicBlock[1]/outputs/267&#45;&gt;ResNet/Sequential[layer4]/BasicBlock[1]/ReLU[relu]/outputs/268</title>\n",
       "<path fill=\"none\" stroke=\"#000000\" d=\"M148,-769.9902C148,-759.2963 148,-745.4994 148,-733.3706\"/>\n",
       "<polygon fill=\"#000000\" stroke=\"#000000\" points=\"151.5001,-733.2612 148,-723.2612 144.5001,-733.2613 151.5001,-733.2612\"/>\n",
       "<text text-anchor=\"middle\" x=\"172\" y=\"-744\" font-family=\"Times\" font-size=\"10.00\" fill=\"#000000\">1x512x7x7</text>\n",
       "</g>\n",
       "<!-- ResNet/AvgPool2d[avgpool]/outputs/269 -->\n",
       "<g id=\"node18\" class=\"node\">\n",
       "<title>ResNet/AvgPool2d[avgpool]/outputs/269</title>\n",
       "<polygon fill=\"#e8e8e8\" stroke=\"#000000\" points=\"175,-640 121,-640 121,-604 175,-604 175,-640\"/>\n",
       "<text text-anchor=\"start\" x=\"140\" y=\"-619\" font-family=\"Times\" font-size=\"10.00\" fill=\"#000000\">Pad</text>\n",
       "</g>\n",
       "<!-- ResNet/Sequential[layer4]/BasicBlock[1]/ReLU[relu]/outputs/268&#45;&gt;ResNet/AvgPool2d[avgpool]/outputs/269 -->\n",
       "<g id=\"edge14\" class=\"edge\">\n",
       "<title>ResNet/Sequential[layer4]/BasicBlock[1]/ReLU[relu]/outputs/268&#45;&gt;ResNet/AvgPool2d[avgpool]/outputs/269</title>\n",
       "<path fill=\"none\" stroke=\"#000000\" d=\"M148,-686.9902C148,-676.2963 148,-662.4994 148,-650.3706\"/>\n",
       "<polygon fill=\"#000000\" stroke=\"#000000\" points=\"151.5001,-650.2612 148,-640.2612 144.5001,-650.2613 151.5001,-650.2612\"/>\n",
       "<text text-anchor=\"middle\" x=\"172\" y=\"-661\" font-family=\"Times\" font-size=\"10.00\" fill=\"#000000\">1x512x7x7</text>\n",
       "</g>\n",
       "<!-- ResNet/AvgPool2d[avgpool]/outputs/270 -->\n",
       "<g id=\"node19\" class=\"node\">\n",
       "<title>ResNet/AvgPool2d[avgpool]/outputs/270</title>\n",
       "<polygon fill=\"#e8e8e8\" stroke=\"#000000\" points=\"190,-567 106,-567 106,-531 190,-531 190,-567\"/>\n",
       "<text text-anchor=\"start\" x=\"114\" y=\"-546\" font-family=\"Times\" font-size=\"10.00\" fill=\"#000000\">AveragePool7x7</text>\n",
       "</g>\n",
       "<!-- ResNet/AvgPool2d[avgpool]/outputs/269&#45;&gt;ResNet/AvgPool2d[avgpool]/outputs/270 -->\n",
       "<g id=\"edge15\" class=\"edge\">\n",
       "<title>ResNet/AvgPool2d[avgpool]/outputs/269&#45;&gt;ResNet/AvgPool2d[avgpool]/outputs/270</title>\n",
       "<path fill=\"none\" stroke=\"#000000\" d=\"M148,-603.9551C148,-595.8828 148,-586.1764 148,-577.1817\"/>\n",
       "<polygon fill=\"#000000\" stroke=\"#000000\" points=\"151.5001,-577.0903 148,-567.0904 144.5001,-577.0904 151.5001,-577.0903\"/>\n",
       "</g>\n",
       "<!-- ResNet/outputs/271 -->\n",
       "<g id=\"node20\" class=\"node\">\n",
       "<title>ResNet/outputs/271</title>\n",
       "<polygon fill=\"#e8e8e8\" stroke=\"#000000\" points=\"144,-484 90,-484 90,-448 144,-448 144,-484\"/>\n",
       "<text text-anchor=\"start\" x=\"105\" y=\"-463\" font-family=\"Times\" font-size=\"10.00\" fill=\"#000000\">Shape</text>\n",
       "</g>\n",
       "<!-- ResNet/AvgPool2d[avgpool]/outputs/270&#45;&gt;ResNet/outputs/271 -->\n",
       "<g id=\"edge16\" class=\"edge\">\n",
       "<title>ResNet/AvgPool2d[avgpool]/outputs/270&#45;&gt;ResNet/outputs/271</title>\n",
       "<path fill=\"none\" stroke=\"#000000\" d=\"M128.8132,-530.7524C124.4478,-525.4769 120.3947,-519.4007 118,-513 115.8381,-507.2215 114.8658,-500.7575 114.569,-494.5167\"/>\n",
       "<polygon fill=\"#000000\" stroke=\"#000000\" points=\"118.0695,-494.4013 114.6166,-484.3849 111.0696,-494.3684 118.0695,-494.4013\"/>\n",
       "<text text-anchor=\"middle\" x=\"142\" y=\"-505\" font-family=\"Times\" font-size=\"10.00\" fill=\"#000000\">1x512x1x1</text>\n",
       "</g>\n",
       "<!-- ResNet/outputs/278 -->\n",
       "<g id=\"node27\" class=\"node\">\n",
       "<title>ResNet/outputs/278</title>\n",
       "<polygon fill=\"#e8e8e8\" stroke=\"#000000\" points=\"177,-119 123,-119 123,-83 177,-83 177,-119\"/>\n",
       "<text text-anchor=\"start\" x=\"133\" y=\"-98\" font-family=\"Times\" font-size=\"10.00\" fill=\"#000000\">Reshape</text>\n",
       "</g>\n",
       "<!-- ResNet/AvgPool2d[avgpool]/outputs/270&#45;&gt;ResNet/outputs/278 -->\n",
       "<g id=\"edge17\" class=\"edge\">\n",
       "<title>ResNet/AvgPool2d[avgpool]/outputs/270&#45;&gt;ResNet/outputs/278</title>\n",
       "<path fill=\"none\" stroke=\"#000000\" d=\"M159.3721,-530.9787C168.5698,-514.6607 180,-489.6287 180,-466 180,-466 180,-466 180,-174 180,-158.0124 173.7679,-141.4338 166.9847,-128.1241\"/>\n",
       "<polygon fill=\"#000000\" stroke=\"#000000\" points=\"169.8992,-126.1589 162.0293,-119.0655 163.758,-129.5184 169.8992,-126.1589\"/>\n",
       "<text text-anchor=\"middle\" x=\"204\" y=\"-317.5\" font-family=\"Times\" font-size=\"10.00\" fill=\"#000000\">1x512x1x1</text>\n",
       "</g>\n",
       "<!-- ResNet/outputs/272 -->\n",
       "<g id=\"node21\" class=\"node\">\n",
       "<title>ResNet/outputs/272</title>\n",
       "<polygon fill=\"#e8e8e8\" stroke=\"#000000\" points=\"144,-411 90,-411 90,-375 144,-375 144,-411\"/>\n",
       "<text text-anchor=\"start\" x=\"107\" y=\"-390\" font-family=\"Times\" font-size=\"10.00\" fill=\"#000000\">Slice</text>\n",
       "</g>\n",
       "<!-- ResNet/outputs/271&#45;&gt;ResNet/outputs/272 -->\n",
       "<g id=\"edge18\" class=\"edge\">\n",
       "<title>ResNet/outputs/271&#45;&gt;ResNet/outputs/272</title>\n",
       "<path fill=\"none\" stroke=\"#000000\" d=\"M117,-447.9551C117,-439.8828 117,-430.1764 117,-421.1817\"/>\n",
       "<polygon fill=\"#000000\" stroke=\"#000000\" points=\"120.5001,-421.0903 117,-411.0904 113.5001,-421.0904 120.5001,-421.0903\"/>\n",
       "</g>\n",
       "<!-- ResNet/outputs/273 -->\n",
       "<g id=\"node22\" class=\"node\">\n",
       "<title>ResNet/outputs/273</title>\n",
       "<polygon fill=\"#e8e8e8\" stroke=\"#000000\" points=\"144,-338 90,-338 90,-302 144,-302 144,-338\"/>\n",
       "<text text-anchor=\"start\" x=\"100\" y=\"-317\" font-family=\"Times\" font-size=\"10.00\" fill=\"#000000\">Squeeze</text>\n",
       "</g>\n",
       "<!-- ResNet/outputs/272&#45;&gt;ResNet/outputs/273 -->\n",
       "<g id=\"edge19\" class=\"edge\">\n",
       "<title>ResNet/outputs/272&#45;&gt;ResNet/outputs/273</title>\n",
       "<path fill=\"none\" stroke=\"#000000\" d=\"M117,-374.9551C117,-366.8828 117,-357.1764 117,-348.1817\"/>\n",
       "<polygon fill=\"#000000\" stroke=\"#000000\" points=\"120.5001,-348.0903 117,-338.0904 113.5001,-348.0904 120.5001,-348.0903\"/>\n",
       "</g>\n",
       "<!-- ResNet/outputs/275 -->\n",
       "<g id=\"node24\" class=\"node\">\n",
       "<title>ResNet/outputs/275</title>\n",
       "<polygon fill=\"#e8e8e8\" stroke=\"#000000\" points=\"149.5,-265 88.5,-265 88.5,-229 149.5,-229 149.5,-265\"/>\n",
       "<text text-anchor=\"start\" x=\"97\" y=\"-244\" font-family=\"Times\" font-size=\"10.00\" fill=\"#000000\">Unsqueeze</text>\n",
       "</g>\n",
       "<!-- ResNet/outputs/273&#45;&gt;ResNet/outputs/275 -->\n",
       "<g id=\"edge20\" class=\"edge\">\n",
       "<title>ResNet/outputs/273&#45;&gt;ResNet/outputs/275</title>\n",
       "<path fill=\"none\" stroke=\"#000000\" d=\"M117.4944,-301.9551C117.7155,-293.8828 117.9815,-284.1764 118.2279,-275.1817\"/>\n",
       "<polygon fill=\"#000000\" stroke=\"#000000\" points=\"121.7291,-275.1825 118.5044,-265.0904 114.7317,-274.9907 121.7291,-275.1825\"/>\n",
       "</g>\n",
       "<!-- ResNet/outputs/274 -->\n",
       "<g id=\"node23\" class=\"node\">\n",
       "<title>ResNet/outputs/274</title>\n",
       "<polygon fill=\"#e8e8e8\" stroke=\"#000000\" points=\"67,-338 13,-338 13,-302 67,-302 67,-338\"/>\n",
       "<text text-anchor=\"start\" x=\"22\" y=\"-317\" font-family=\"Times\" font-size=\"10.00\" fill=\"#000000\">Constant</text>\n",
       "</g>\n",
       "<!-- ResNet/outputs/276 -->\n",
       "<g id=\"node25\" class=\"node\">\n",
       "<title>ResNet/outputs/276</title>\n",
       "<polygon fill=\"#e8e8e8\" stroke=\"#000000\" points=\"70.5,-265 9.5,-265 9.5,-229 70.5,-229 70.5,-265\"/>\n",
       "<text text-anchor=\"start\" x=\"18\" y=\"-244\" font-family=\"Times\" font-size=\"10.00\" fill=\"#000000\">Unsqueeze</text>\n",
       "</g>\n",
       "<!-- ResNet/outputs/274&#45;&gt;ResNet/outputs/276 -->\n",
       "<g id=\"edge21\" class=\"edge\">\n",
       "<title>ResNet/outputs/274&#45;&gt;ResNet/outputs/276</title>\n",
       "<path fill=\"none\" stroke=\"#000000\" d=\"M40,-301.9551C40,-293.8828 40,-284.1764 40,-275.1817\"/>\n",
       "<polygon fill=\"#000000\" stroke=\"#000000\" points=\"43.5001,-275.0903 40,-265.0904 36.5001,-275.0904 43.5001,-275.0903\"/>\n",
       "</g>\n",
       "<!-- ResNet/outputs/277 -->\n",
       "<g id=\"node26\" class=\"node\">\n",
       "<title>ResNet/outputs/277</title>\n",
       "<polygon fill=\"#e8e8e8\" stroke=\"#000000\" points=\"146,-192 92,-192 92,-156 146,-156 146,-192\"/>\n",
       "<text text-anchor=\"start\" x=\"104\" y=\"-171\" font-family=\"Times\" font-size=\"10.00\" fill=\"#000000\">Concat</text>\n",
       "</g>\n",
       "<!-- ResNet/outputs/275&#45;&gt;ResNet/outputs/277 -->\n",
       "<g id=\"edge22\" class=\"edge\">\n",
       "<title>ResNet/outputs/275&#45;&gt;ResNet/outputs/277</title>\n",
       "<path fill=\"none\" stroke=\"#000000\" d=\"M119,-228.9551C119,-220.8828 119,-211.1764 119,-202.1817\"/>\n",
       "<polygon fill=\"#000000\" stroke=\"#000000\" points=\"122.5001,-202.0903 119,-192.0904 115.5001,-202.0904 122.5001,-202.0903\"/>\n",
       "</g>\n",
       "<!-- ResNet/outputs/276&#45;&gt;ResNet/outputs/277 -->\n",
       "<g id=\"edge23\" class=\"edge\">\n",
       "<title>ResNet/outputs/276&#45;&gt;ResNet/outputs/277</title>\n",
       "<path fill=\"none\" stroke=\"#000000\" d=\"M59.5281,-228.9551C69.3083,-219.9177 81.3052,-208.8319 91.9561,-198.9899\"/>\n",
       "<polygon fill=\"#000000\" stroke=\"#000000\" points=\"94.4536,-201.4476 99.4228,-192.0904 89.7029,-196.3065 94.4536,-201.4476\"/>\n",
       "</g>\n",
       "<!-- ResNet/outputs/277&#45;&gt;ResNet/outputs/278 -->\n",
       "<g id=\"edge24\" class=\"edge\">\n",
       "<title>ResNet/outputs/277&#45;&gt;ResNet/outputs/278</title>\n",
       "<path fill=\"none\" stroke=\"#000000\" d=\"M126.6629,-155.9551C130.2026,-147.6196 134.4823,-137.5416 138.4051,-128.3042\"/>\n",
       "<polygon fill=\"#000000\" stroke=\"#000000\" points=\"141.6306,-129.6629 142.3178,-119.0904 135.1874,-126.9267 141.6306,-129.6629\"/>\n",
       "</g>\n",
       "<!-- ResNet/Linear[fc]/outputs/279 -->\n",
       "<g id=\"node28\" class=\"node\">\n",
       "<title>ResNet/Linear[fc]/outputs/279</title>\n",
       "<polygon fill=\"#e8e8e8\" stroke=\"#000000\" points=\"177,-36 123,-36 123,0 177,0 177,-36\"/>\n",
       "<text text-anchor=\"start\" x=\"137\" y=\"-15\" font-family=\"Times\" font-size=\"10.00\" fill=\"#000000\">Linear</text>\n",
       "</g>\n",
       "<!-- ResNet/outputs/278&#45;&gt;ResNet/Linear[fc]/outputs/279 -->\n",
       "<g id=\"edge25\" class=\"edge\">\n",
       "<title>ResNet/outputs/278&#45;&gt;ResNet/Linear[fc]/outputs/279</title>\n",
       "<path fill=\"none\" stroke=\"#000000\" d=\"M150,-82.9902C150,-72.2963 150,-58.4994 150,-46.3706\"/>\n",
       "<polygon fill=\"#000000\" stroke=\"#000000\" points=\"153.5001,-46.2612 150,-36.2612 146.5001,-46.2613 153.5001,-46.2612\"/>\n",
       "<text text-anchor=\"middle\" x=\"163.5\" y=\"-57\" font-family=\"Times\" font-size=\"10.00\" fill=\"#000000\">1x512</text>\n",
       "</g>\n",
       "<!-- 12862599578090753004 -->\n",
       "<g id=\"node29\" class=\"node\">\n",
       "<title>12862599578090753004</title>\n",
       "<polygon fill=\"#e8e8e8\" stroke=\"#000000\" points=\"200,-3537 60,-3537 60,-3501 200,-3501 200,-3537\"/>\n",
       "<text text-anchor=\"start\" x=\"68\" y=\"-3516\" font-family=\"Times\" font-size=\"10.00\" fill=\"#000000\">Conv7x7 &gt; BatchNorm &gt; Relu</text>\n",
       "</g>\n",
       "<!-- 12862599578090753004&#45;&gt;ResNet/MaxPool2d[maxpool]/outputs/130 -->\n",
       "<g id=\"edge26\" class=\"edge\">\n",
       "<title>12862599578090753004&#45;&gt;ResNet/MaxPool2d[maxpool]/outputs/130</title>\n",
       "<path fill=\"none\" stroke=\"#000000\" d=\"M130,-3500.9902C130,-3490.2963 130,-3476.4994 130,-3464.3706\"/>\n",
       "<polygon fill=\"#000000\" stroke=\"#000000\" points=\"133.5001,-3464.2612 130,-3454.2612 126.5001,-3464.2613 133.5001,-3464.2612\"/>\n",
       "<text text-anchor=\"middle\" x=\"162\" y=\"-3475\" font-family=\"Times\" font-size=\"10.00\" fill=\"#000000\">1x64x112x112</text>\n",
       "</g>\n",
       "<!-- 18194520492212092242 -->\n",
       "<g id=\"node38\" class=\"node\">\n",
       "<title>18194520492212092242</title>\n",
       "<polygon fill=\"#e8e8e8\" stroke=\"#000000\" points=\"260.5,-3288 149.5,-3288 149.5,-3252 260.5,-3252 260.5,-3288\"/>\n",
       "<text text-anchor=\"start\" x=\"158\" y=\"-3267\" font-family=\"Times\" font-size=\"10.00\" fill=\"#000000\">Conv3x3 &gt; BatchNorm</text>\n",
       "</g>\n",
       "<!-- 3504095414457926315&#45;&gt;18194520492212092242 -->\n",
       "<g id=\"edge35\" class=\"edge\">\n",
       "<title>3504095414457926315&#45;&gt;18194520492212092242</title>\n",
       "<path fill=\"none\" stroke=\"#000000\" d=\"M210.4811,-3334.9902C209.5792,-3324.2963 208.4156,-3310.4994 207.3927,-3298.3706\"/>\n",
       "<polygon fill=\"#000000\" stroke=\"#000000\" points=\"210.8682,-3297.9317 206.5401,-3288.2612 203.893,-3298.52 210.8682,-3297.9317\"/>\n",
       "<text text-anchor=\"middle\" x=\"234.5\" y=\"-3309\" font-family=\"Times\" font-size=\"10.00\" fill=\"#000000\">1x64x56x56</text>\n",
       "</g>\n",
       "<!-- 18144311634989503261 -->\n",
       "<g id=\"node39\" class=\"node\">\n",
       "<title>18144311634989503261</title>\n",
       "<polygon fill=\"#e8e8e8\" stroke=\"#000000\" points=\"260.5,-2956 149.5,-2956 149.5,-2920 260.5,-2920 260.5,-2956\"/>\n",
       "<text text-anchor=\"start\" x=\"158\" y=\"-2935\" font-family=\"Times\" font-size=\"10.00\" fill=\"#000000\">Conv3x3 &gt; BatchNorm</text>\n",
       "</g>\n",
       "<!-- 1381931652503287506&#45;&gt;18144311634989503261 -->\n",
       "<g id=\"edge37\" class=\"edge\">\n",
       "<title>1381931652503287506&#45;&gt;18144311634989503261</title>\n",
       "<path fill=\"none\" stroke=\"#000000\" d=\"M210.4811,-3002.9902C209.5792,-2992.2963 208.4156,-2978.4994 207.3927,-2966.3706\"/>\n",
       "<polygon fill=\"#000000\" stroke=\"#000000\" points=\"210.8682,-2965.9317 206.5401,-2956.2612 203.893,-2966.52 210.8682,-2965.9317\"/>\n",
       "<text text-anchor=\"middle\" x=\"234.5\" y=\"-2977\" font-family=\"Times\" font-size=\"10.00\" fill=\"#000000\">1x64x56x56</text>\n",
       "</g>\n",
       "<!-- 7942081917661718316 -->\n",
       "<g id=\"node40\" class=\"node\">\n",
       "<title>7942081917661718316</title>\n",
       "<polygon fill=\"#e8e8e8\" stroke=\"#000000\" points=\"128.5,-2599 17.5,-2599 17.5,-2563 128.5,-2563 128.5,-2599\"/>\n",
       "<text text-anchor=\"start\" x=\"26\" y=\"-2578\" font-family=\"Times\" font-size=\"10.00\" fill=\"#000000\">Conv3x3 &gt; BatchNorm</text>\n",
       "</g>\n",
       "<!-- 3643373107149370930&#45;&gt;7942081917661718316 -->\n",
       "<g id=\"edge39\" class=\"edge\">\n",
       "<title>3643373107149370930&#45;&gt;7942081917661718316</title>\n",
       "<path fill=\"none\" stroke=\"#000000\" d=\"M61.9911,-2670.6508C59.9439,-2665.0893 58.0311,-2658.891 57,-2653 54.2415,-2637.2396 53.6785,-2632.6514 57,-2617 57.599,-2614.1774 58.4351,-2611.3075 59.4138,-2608.4825\"/>\n",
       "<polygon fill=\"#000000\" stroke=\"#000000\" points=\"62.6691,-2609.7683 63.154,-2599.1846 56.1748,-2607.1559 62.6691,-2609.7683\"/>\n",
       "<text text-anchor=\"middle\" x=\"86\" y=\"-2632.5\" font-family=\"Times\" font-size=\"10.00\" fill=\"#000000\">1x128x28x28</text>\n",
       "</g>\n",
       "<!-- 4658884332100720180 -->\n",
       "<g id=\"node42\" class=\"node\">\n",
       "<title>4658884332100720180</title>\n",
       "<polygon fill=\"#e8e8e8\" stroke=\"#000000\" points=\"264.5,-2267 153.5,-2267 153.5,-2231 264.5,-2231 264.5,-2267\"/>\n",
       "<text text-anchor=\"start\" x=\"162\" y=\"-2246\" font-family=\"Times\" font-size=\"10.00\" fill=\"#000000\">Conv3x3 &gt; BatchNorm</text>\n",
       "</g>\n",
       "<!-- 14168321076641026214&#45;&gt;4658884332100720180 -->\n",
       "<g id=\"edge43\" class=\"edge\">\n",
       "<title>14168321076641026214&#45;&gt;4658884332100720180</title>\n",
       "<path fill=\"none\" stroke=\"#000000\" d=\"M214.4811,-2313.9902C213.5792,-2303.2963 212.4156,-2289.4994 211.3927,-2277.3706\"/>\n",
       "<polygon fill=\"#000000\" stroke=\"#000000\" points=\"214.8682,-2276.9317 210.5401,-2267.2612 207.893,-2277.52 214.8682,-2276.9317\"/>\n",
       "<text text-anchor=\"middle\" x=\"241\" y=\"-2288\" font-family=\"Times\" font-size=\"10.00\" fill=\"#000000\">1x128x28x28</text>\n",
       "</g>\n",
       "<!-- 13102695778008024913 -->\n",
       "<g id=\"node43\" class=\"node\">\n",
       "<title>13102695778008024913</title>\n",
       "<polygon fill=\"#e8e8e8\" stroke=\"#000000\" points=\"135.5,-1910 24.5,-1910 24.5,-1874 135.5,-1874 135.5,-1910\"/>\n",
       "<text text-anchor=\"start\" x=\"33\" y=\"-1889\" font-family=\"Times\" font-size=\"10.00\" fill=\"#000000\">Conv3x3 &gt; BatchNorm</text>\n",
       "</g>\n",
       "<!-- 2580259380100426387&#45;&gt;13102695778008024913 -->\n",
       "<g id=\"edge45\" class=\"edge\">\n",
       "<title>2580259380100426387&#45;&gt;13102695778008024913</title>\n",
       "<path fill=\"none\" stroke=\"#000000\" d=\"M68.9911,-1981.6508C66.9439,-1976.0893 65.0311,-1969.891 64,-1964 61.2415,-1948.2396 60.6785,-1943.6514 64,-1928 64.599,-1925.1774 65.4351,-1922.3075 66.4138,-1919.4825\"/>\n",
       "<polygon fill=\"#000000\" stroke=\"#000000\" points=\"69.6691,-1920.7683 70.154,-1910.1846 63.1748,-1918.1559 69.6691,-1920.7683\"/>\n",
       "<text text-anchor=\"middle\" x=\"93\" y=\"-1943.5\" font-family=\"Times\" font-size=\"10.00\" fill=\"#000000\">1x256x14x14</text>\n",
       "</g>\n",
       "<!-- 5799334059609290401 -->\n",
       "<g id=\"node45\" class=\"node\">\n",
       "<title>5799334059609290401</title>\n",
       "<polygon fill=\"#e8e8e8\" stroke=\"#000000\" points=\"271.5,-1578 160.5,-1578 160.5,-1542 271.5,-1542 271.5,-1578\"/>\n",
       "<text text-anchor=\"start\" x=\"169\" y=\"-1557\" font-family=\"Times\" font-size=\"10.00\" fill=\"#000000\">Conv3x3 &gt; BatchNorm</text>\n",
       "</g>\n",
       "<!-- 1711263539456254945&#45;&gt;5799334059609290401 -->\n",
       "<g id=\"edge49\" class=\"edge\">\n",
       "<title>1711263539456254945&#45;&gt;5799334059609290401</title>\n",
       "<path fill=\"none\" stroke=\"#000000\" d=\"M221.4811,-1624.9902C220.5792,-1614.2963 219.4156,-1600.4994 218.3927,-1588.3706\"/>\n",
       "<polygon fill=\"#000000\" stroke=\"#000000\" points=\"221.8682,-1587.9317 217.5401,-1578.2612 214.893,-1588.52 221.8682,-1587.9317\"/>\n",
       "<text text-anchor=\"middle\" x=\"248\" y=\"-1599\" font-family=\"Times\" font-size=\"10.00\" fill=\"#000000\">1x256x14x14</text>\n",
       "</g>\n",
       "<!-- 14048928433045850090 -->\n",
       "<g id=\"node46\" class=\"node\">\n",
       "<title>14048928433045850090</title>\n",
       "<polygon fill=\"#e8e8e8\" stroke=\"#000000\" points=\"142.5,-1221 31.5,-1221 31.5,-1185 142.5,-1185 142.5,-1221\"/>\n",
       "<text text-anchor=\"start\" x=\"40\" y=\"-1200\" font-family=\"Times\" font-size=\"10.00\" fill=\"#000000\">Conv3x3 &gt; BatchNorm</text>\n",
       "</g>\n",
       "<!-- 8112943668119962826&#45;&gt;14048928433045850090 -->\n",
       "<g id=\"edge51\" class=\"edge\">\n",
       "<title>8112943668119962826&#45;&gt;14048928433045850090</title>\n",
       "<path fill=\"none\" stroke=\"#000000\" d=\"M79.1483,-1292.8153C77.8567,-1287.1513 76.6427,-1280.8551 76,-1275 74.2541,-1259.0955 73.6363,-1254.8244 76,-1239 76.4025,-1236.3055 76.9656,-1233.5339 77.6263,-1230.7819\"/>\n",
       "<polygon fill=\"#000000\" stroke=\"#000000\" points=\"81.0191,-1231.6449 80.3344,-1221.0722 74.2764,-1229.7642 81.0191,-1231.6449\"/>\n",
       "<text text-anchor=\"middle\" x=\"100\" y=\"-1254.5\" font-family=\"Times\" font-size=\"10.00\" fill=\"#000000\">1x512x7x7</text>\n",
       "</g>\n",
       "<!-- 17471032896422776262 -->\n",
       "<g id=\"node48\" class=\"node\">\n",
       "<title>17471032896422776262</title>\n",
       "<polygon fill=\"#e8e8e8\" stroke=\"#000000\" points=\"278.5,-889 167.5,-889 167.5,-853 278.5,-853 278.5,-889\"/>\n",
       "<text text-anchor=\"start\" x=\"176\" y=\"-868\" font-family=\"Times\" font-size=\"10.00\" fill=\"#000000\">Conv3x3 &gt; BatchNorm</text>\n",
       "</g>\n",
       "<!-- 19449150485369363&#45;&gt;17471032896422776262 -->\n",
       "<g id=\"edge55\" class=\"edge\">\n",
       "<title>19449150485369363&#45;&gt;17471032896422776262</title>\n",
       "<path fill=\"none\" stroke=\"#000000\" d=\"M228.4811,-935.9902C227.5792,-925.2963 226.4156,-911.4994 225.3927,-899.3706\"/>\n",
       "<polygon fill=\"#000000\" stroke=\"#000000\" points=\"228.8682,-898.9317 224.5401,-889.2612 221.893,-899.52 228.8682,-898.9317\"/>\n",
       "<text text-anchor=\"middle\" x=\"250\" y=\"-910\" font-family=\"Times\" font-size=\"10.00\" fill=\"#000000\">1x512x7x7</text>\n",
       "</g>\n",
       "<!-- 18194520492212092242&#45;&gt;ResNet/Sequential[layer1]/BasicBlock[0]/outputs/144 -->\n",
       "<g id=\"edge36\" class=\"edge\">\n",
       "<title>18194520492212092242&#45;&gt;ResNet/Sequential[layer1]/BasicBlock[0]/outputs/144</title>\n",
       "<path fill=\"none\" stroke=\"#000000\" d=\"M188.7261,-3251.9902C178.3796,-3240.5401 164.8188,-3225.5328 153.3354,-3212.8245\"/>\n",
       "<polygon fill=\"#000000\" stroke=\"#000000\" points=\"155.8025,-3210.3343 146.5011,-3205.2612 150.6087,-3215.0274 155.8025,-3210.3343\"/>\n",
       "<text text-anchor=\"middle\" x=\"176.5\" y=\"-3226\" font-family=\"Times\" font-size=\"10.00\" fill=\"#000000\">64</text>\n",
       "</g>\n",
       "<!-- 18144311634989503261&#45;&gt;ResNet/Sequential[layer1]/BasicBlock[1]/outputs/159 -->\n",
       "<g id=\"edge38\" class=\"edge\">\n",
       "<title>18144311634989503261&#45;&gt;ResNet/Sequential[layer1]/BasicBlock[1]/outputs/159</title>\n",
       "<path fill=\"none\" stroke=\"#000000\" d=\"M188.7261,-2919.9902C178.3796,-2908.5401 164.8188,-2893.5328 153.3354,-2880.8245\"/>\n",
       "<polygon fill=\"#000000\" stroke=\"#000000\" points=\"155.8025,-2878.3343 146.5011,-2873.2612 150.6087,-2883.0274 155.8025,-2878.3343\"/>\n",
       "<text text-anchor=\"middle\" x=\"176.5\" y=\"-2894\" font-family=\"Times\" font-size=\"10.00\" fill=\"#000000\">64</text>\n",
       "</g>\n",
       "<!-- 7942081917661718316&#45;&gt;ResNet/Sequential[layer2]/BasicBlock[0]/outputs/180 -->\n",
       "<g id=\"edge40\" class=\"edge\">\n",
       "<title>7942081917661718316&#45;&gt;ResNet/Sequential[layer2]/BasicBlock[0]/outputs/180</title>\n",
       "<path fill=\"none\" stroke=\"#000000\" d=\"M86.2361,-2562.9902C94.4924,-2551.7562 105.2654,-2537.0979 114.4901,-2524.5463\"/>\n",
       "<polygon fill=\"#000000\" stroke=\"#000000\" points=\"117.4773,-2526.3919 120.5791,-2516.2612 111.8367,-2522.2464 117.4773,-2526.3919\"/>\n",
       "<text text-anchor=\"middle\" x=\"116\" y=\"-2537\" font-family=\"Times\" font-size=\"10.00\" fill=\"#000000\">128</text>\n",
       "</g>\n",
       "<!-- 823161091317767605&#45;&gt;ResNet/Sequential[layer2]/BasicBlock[0]/outputs/180 -->\n",
       "<g id=\"edge42\" class=\"edge\">\n",
       "<title>823161091317767605&#45;&gt;ResNet/Sequential[layer2]/BasicBlock[0]/outputs/180</title>\n",
       "<path fill=\"none\" stroke=\"#000000\" d=\"M173.0243,-2616.8075C165.3925,-2593.5726 152.1076,-2553.1276 143.1854,-2525.9644\"/>\n",
       "<polygon fill=\"#000000\" stroke=\"#000000\" points=\"146.4463,-2524.6762 140.0004,-2516.2678 139.7959,-2526.8606 146.4463,-2524.6762\"/>\n",
       "<text text-anchor=\"middle\" x=\"174\" y=\"-2578.5\" font-family=\"Times\" font-size=\"10.00\" fill=\"#000000\">128</text>\n",
       "</g>\n",
       "<!-- 4658884332100720180&#45;&gt;ResNet/Sequential[layer2]/BasicBlock[1]/outputs/195 -->\n",
       "<g id=\"edge44\" class=\"edge\">\n",
       "<title>4658884332100720180&#45;&gt;ResNet/Sequential[layer2]/BasicBlock[1]/outputs/195</title>\n",
       "<path fill=\"none\" stroke=\"#000000\" d=\"M192.7261,-2230.9902C182.3796,-2219.5401 168.8188,-2204.5328 157.3354,-2191.8245\"/>\n",
       "<polygon fill=\"#000000\" stroke=\"#000000\" points=\"159.8025,-2189.3343 150.5011,-2184.2612 154.6087,-2194.0274 159.8025,-2189.3343\"/>\n",
       "<text text-anchor=\"middle\" x=\"183\" y=\"-2205\" font-family=\"Times\" font-size=\"10.00\" fill=\"#000000\">128</text>\n",
       "</g>\n",
       "<!-- 13102695778008024913&#45;&gt;ResNet/Sequential[layer3]/BasicBlock[0]/outputs/216 -->\n",
       "<g id=\"edge46\" class=\"edge\">\n",
       "<title>13102695778008024913&#45;&gt;ResNet/Sequential[layer3]/BasicBlock[0]/outputs/216</title>\n",
       "<path fill=\"none\" stroke=\"#000000\" d=\"M93.2361,-1873.9902C101.4924,-1862.7562 112.2654,-1848.0979 121.4901,-1835.5463\"/>\n",
       "<polygon fill=\"#000000\" stroke=\"#000000\" points=\"124.4773,-1837.3919 127.5791,-1827.2612 118.8367,-1833.2464 124.4773,-1837.3919\"/>\n",
       "<text text-anchor=\"middle\" x=\"123\" y=\"-1848\" font-family=\"Times\" font-size=\"10.00\" fill=\"#000000\">256</text>\n",
       "</g>\n",
       "<!-- 14070466592724973727&#45;&gt;ResNet/Sequential[layer3]/BasicBlock[0]/outputs/216 -->\n",
       "<g id=\"edge48\" class=\"edge\">\n",
       "<title>14070466592724973727&#45;&gt;ResNet/Sequential[layer3]/BasicBlock[0]/outputs/216</title>\n",
       "<path fill=\"none\" stroke=\"#000000\" d=\"M180.0243,-1927.8075C172.3925,-1904.5726 159.1076,-1864.1276 150.1854,-1836.9644\"/>\n",
       "<polygon fill=\"#000000\" stroke=\"#000000\" points=\"153.4463,-1835.6762 147.0004,-1827.2678 146.7959,-1837.8606 153.4463,-1835.6762\"/>\n",
       "<text text-anchor=\"middle\" x=\"181\" y=\"-1889.5\" font-family=\"Times\" font-size=\"10.00\" fill=\"#000000\">256</text>\n",
       "</g>\n",
       "<!-- 5799334059609290401&#45;&gt;ResNet/Sequential[layer3]/BasicBlock[1]/outputs/231 -->\n",
       "<g id=\"edge50\" class=\"edge\">\n",
       "<title>5799334059609290401&#45;&gt;ResNet/Sequential[layer3]/BasicBlock[1]/outputs/231</title>\n",
       "<path fill=\"none\" stroke=\"#000000\" d=\"M199.7261,-1541.9902C189.3796,-1530.5401 175.8188,-1515.5328 164.3354,-1502.8245\"/>\n",
       "<polygon fill=\"#000000\" stroke=\"#000000\" points=\"166.8025,-1500.3343 157.5011,-1495.2612 161.6087,-1505.0274 166.8025,-1500.3343\"/>\n",
       "<text text-anchor=\"middle\" x=\"190\" y=\"-1516\" font-family=\"Times\" font-size=\"10.00\" fill=\"#000000\">256</text>\n",
       "</g>\n",
       "<!-- 14048928433045850090&#45;&gt;ResNet/Sequential[layer4]/BasicBlock[0]/outputs/252 -->\n",
       "<g id=\"edge52\" class=\"edge\">\n",
       "<title>14048928433045850090&#45;&gt;ResNet/Sequential[layer4]/BasicBlock[0]/outputs/252</title>\n",
       "<path fill=\"none\" stroke=\"#000000\" d=\"M100.2361,-1184.9902C108.4924,-1173.7562 119.2654,-1159.0979 128.4901,-1146.5463\"/>\n",
       "<polygon fill=\"#000000\" stroke=\"#000000\" points=\"131.4773,-1148.3919 134.5791,-1138.2612 125.8367,-1144.2464 131.4773,-1148.3919\"/>\n",
       "<text text-anchor=\"middle\" x=\"130\" y=\"-1159\" font-family=\"Times\" font-size=\"10.00\" fill=\"#000000\">512</text>\n",
       "</g>\n",
       "<!-- 13975138822073118306&#45;&gt;ResNet/Sequential[layer4]/BasicBlock[0]/outputs/252 -->\n",
       "<g id=\"edge54\" class=\"edge\">\n",
       "<title>13975138822073118306&#45;&gt;ResNet/Sequential[layer4]/BasicBlock[0]/outputs/252</title>\n",
       "<path fill=\"none\" stroke=\"#000000\" d=\"M182.6883,-1238.8075C175.9044,-1215.5726 164.0957,-1175.1276 156.1648,-1147.9644\"/>\n",
       "<polygon fill=\"#000000\" stroke=\"#000000\" points=\"159.4961,-1146.886 153.3337,-1138.2678 152.7767,-1148.848 159.4961,-1146.886\"/>\n",
       "<text text-anchor=\"middle\" x=\"185\" y=\"-1200.5\" font-family=\"Times\" font-size=\"10.00\" fill=\"#000000\">512</text>\n",
       "</g>\n",
       "<!-- 17471032896422776262&#45;&gt;ResNet/Sequential[layer4]/BasicBlock[1]/outputs/267 -->\n",
       "<g id=\"edge56\" class=\"edge\">\n",
       "<title>17471032896422776262&#45;&gt;ResNet/Sequential[layer4]/BasicBlock[1]/outputs/267</title>\n",
       "<path fill=\"none\" stroke=\"#000000\" d=\"M206.7261,-852.9902C196.3796,-841.5401 182.8188,-826.5328 171.3354,-813.8245\"/>\n",
       "<polygon fill=\"#000000\" stroke=\"#000000\" points=\"173.8025,-811.3343 164.5011,-806.2612 168.6087,-816.0274 173.8025,-811.3343\"/>\n",
       "<text text-anchor=\"middle\" x=\"197\" y=\"-827\" font-family=\"Times\" font-size=\"10.00\" fill=\"#000000\">512</text>\n",
       "</g>\n",
       "</g>\n",
       "</svg>\n"
      ],
      "text/plain": [
       "<hiddenlayer.graph.Graph at 0x7f9b526bf208>"
      ]
     },
     "execution_count": 41,
     "metadata": {},
     "output_type": "execute_result"
    }
   ],
   "source": [
    "hl.build_graph(resnet, torch.randn([1, 3, 224, 224]))"
   ]
  },
  {
   "cell_type": "code",
   "execution_count": null,
   "metadata": {},
   "outputs": [],
   "source": []
  },
  {
   "cell_type": "code",
   "execution_count": null,
   "metadata": {
    "scrolled": true
   },
   "outputs": [],
   "source": []
  },
  {
   "cell_type": "markdown",
   "metadata": {},
   "source": [
    "### 加载别人的模型\n",
    "使用torch.hub.load(),来加载别人的模型\n",
    "\n",
    "这个函数特别有意思：\n",
    "torch.hub.load(github, model, force_reload=False)\n",
    "\n",
    "** Load a model from a github repo, with pretrained weights.**\n",
    "\n",
    "需要写github的那个人，在根目录放一个配置文件：hubconf.py\n",
    "\n",
    "很尴尬，我至今没找到这样的库"
   ]
  },
  {
   "cell_type": "markdown",
   "metadata": {},
   "source": [
    "### 快速构架自己的神经网络结构"
   ]
  },
  {
   "cell_type": "code",
   "execution_count": 42,
   "metadata": {},
   "outputs": [],
   "source": [
    "my_net = torch.nn.Sequential(\n",
    "   torch.nn.Linear(1, 10),\n",
    "    torch.nn.ReLU(inplace=True),\n",
    "    torch.nn.Linear(10,1)\n",
    ")"
   ]
  },
  {
   "cell_type": "code",
   "execution_count": 43,
   "metadata": {},
   "outputs": [
    {
     "data": {
      "text/plain": [
       "Sequential(\n",
       "  (0): Linear(in_features=1, out_features=10, bias=True)\n",
       "  (1): ReLU(inplace)\n",
       "  (2): Linear(in_features=10, out_features=1, bias=True)\n",
       ")"
      ]
     },
     "execution_count": 43,
     "metadata": {},
     "output_type": "execute_result"
    }
   ],
   "source": [
    "my_net"
   ]
  },
  {
   "cell_type": "code",
   "execution_count": 44,
   "metadata": {},
   "outputs": [
    {
     "data": {
      "text/plain": [
       "tensor([[-0.2112],\n",
       "        [-0.2212],\n",
       "        [-0.1366],\n",
       "        [-0.2068],\n",
       "        [-0.1522],\n",
       "        [-0.1979],\n",
       "        [-0.1605],\n",
       "        [-0.2122],\n",
       "        [-0.1121],\n",
       "        [-0.2027]], grad_fn=<ThAddmmBackward>)"
      ]
     },
     "execution_count": 44,
     "metadata": {},
     "output_type": "execute_result"
    }
   ],
   "source": [
    "my_net(torch.randn([10, 1]))"
   ]
  },
  {
   "cell_type": "markdown",
   "metadata": {},
   "source": [
    "### 快速构建多层\n"
   ]
  },
  {
   "cell_type": "code",
   "execution_count": 46,
   "metadata": {},
   "outputs": [],
   "source": [
    "hun_layer = [torch.nn.Linear(10, 10) for _ in range(100)]"
   ]
  },
  {
   "cell_type": "code",
   "execution_count": 47,
   "metadata": {},
   "outputs": [
    {
     "data": {
      "text/plain": [
       "[Linear(in_features=10, out_features=10, bias=True),\n",
       " Linear(in_features=10, out_features=10, bias=True),\n",
       " Linear(in_features=10, out_features=10, bias=True),\n",
       " Linear(in_features=10, out_features=10, bias=True),\n",
       " Linear(in_features=10, out_features=10, bias=True),\n",
       " Linear(in_features=10, out_features=10, bias=True),\n",
       " Linear(in_features=10, out_features=10, bias=True),\n",
       " Linear(in_features=10, out_features=10, bias=True),\n",
       " Linear(in_features=10, out_features=10, bias=True),\n",
       " Linear(in_features=10, out_features=10, bias=True),\n",
       " Linear(in_features=10, out_features=10, bias=True),\n",
       " Linear(in_features=10, out_features=10, bias=True),\n",
       " Linear(in_features=10, out_features=10, bias=True),\n",
       " Linear(in_features=10, out_features=10, bias=True),\n",
       " Linear(in_features=10, out_features=10, bias=True),\n",
       " Linear(in_features=10, out_features=10, bias=True),\n",
       " Linear(in_features=10, out_features=10, bias=True),\n",
       " Linear(in_features=10, out_features=10, bias=True),\n",
       " Linear(in_features=10, out_features=10, bias=True),\n",
       " Linear(in_features=10, out_features=10, bias=True),\n",
       " Linear(in_features=10, out_features=10, bias=True),\n",
       " Linear(in_features=10, out_features=10, bias=True),\n",
       " Linear(in_features=10, out_features=10, bias=True),\n",
       " Linear(in_features=10, out_features=10, bias=True),\n",
       " Linear(in_features=10, out_features=10, bias=True),\n",
       " Linear(in_features=10, out_features=10, bias=True),\n",
       " Linear(in_features=10, out_features=10, bias=True),\n",
       " Linear(in_features=10, out_features=10, bias=True),\n",
       " Linear(in_features=10, out_features=10, bias=True),\n",
       " Linear(in_features=10, out_features=10, bias=True),\n",
       " Linear(in_features=10, out_features=10, bias=True),\n",
       " Linear(in_features=10, out_features=10, bias=True),\n",
       " Linear(in_features=10, out_features=10, bias=True),\n",
       " Linear(in_features=10, out_features=10, bias=True),\n",
       " Linear(in_features=10, out_features=10, bias=True),\n",
       " Linear(in_features=10, out_features=10, bias=True),\n",
       " Linear(in_features=10, out_features=10, bias=True),\n",
       " Linear(in_features=10, out_features=10, bias=True),\n",
       " Linear(in_features=10, out_features=10, bias=True),\n",
       " Linear(in_features=10, out_features=10, bias=True),\n",
       " Linear(in_features=10, out_features=10, bias=True),\n",
       " Linear(in_features=10, out_features=10, bias=True),\n",
       " Linear(in_features=10, out_features=10, bias=True),\n",
       " Linear(in_features=10, out_features=10, bias=True),\n",
       " Linear(in_features=10, out_features=10, bias=True),\n",
       " Linear(in_features=10, out_features=10, bias=True),\n",
       " Linear(in_features=10, out_features=10, bias=True),\n",
       " Linear(in_features=10, out_features=10, bias=True),\n",
       " Linear(in_features=10, out_features=10, bias=True),\n",
       " Linear(in_features=10, out_features=10, bias=True),\n",
       " Linear(in_features=10, out_features=10, bias=True),\n",
       " Linear(in_features=10, out_features=10, bias=True),\n",
       " Linear(in_features=10, out_features=10, bias=True),\n",
       " Linear(in_features=10, out_features=10, bias=True),\n",
       " Linear(in_features=10, out_features=10, bias=True),\n",
       " Linear(in_features=10, out_features=10, bias=True),\n",
       " Linear(in_features=10, out_features=10, bias=True),\n",
       " Linear(in_features=10, out_features=10, bias=True),\n",
       " Linear(in_features=10, out_features=10, bias=True),\n",
       " Linear(in_features=10, out_features=10, bias=True),\n",
       " Linear(in_features=10, out_features=10, bias=True),\n",
       " Linear(in_features=10, out_features=10, bias=True),\n",
       " Linear(in_features=10, out_features=10, bias=True),\n",
       " Linear(in_features=10, out_features=10, bias=True),\n",
       " Linear(in_features=10, out_features=10, bias=True),\n",
       " Linear(in_features=10, out_features=10, bias=True),\n",
       " Linear(in_features=10, out_features=10, bias=True),\n",
       " Linear(in_features=10, out_features=10, bias=True),\n",
       " Linear(in_features=10, out_features=10, bias=True),\n",
       " Linear(in_features=10, out_features=10, bias=True),\n",
       " Linear(in_features=10, out_features=10, bias=True),\n",
       " Linear(in_features=10, out_features=10, bias=True),\n",
       " Linear(in_features=10, out_features=10, bias=True),\n",
       " Linear(in_features=10, out_features=10, bias=True),\n",
       " Linear(in_features=10, out_features=10, bias=True),\n",
       " Linear(in_features=10, out_features=10, bias=True),\n",
       " Linear(in_features=10, out_features=10, bias=True),\n",
       " Linear(in_features=10, out_features=10, bias=True),\n",
       " Linear(in_features=10, out_features=10, bias=True),\n",
       " Linear(in_features=10, out_features=10, bias=True),\n",
       " Linear(in_features=10, out_features=10, bias=True),\n",
       " Linear(in_features=10, out_features=10, bias=True),\n",
       " Linear(in_features=10, out_features=10, bias=True),\n",
       " Linear(in_features=10, out_features=10, bias=True),\n",
       " Linear(in_features=10, out_features=10, bias=True),\n",
       " Linear(in_features=10, out_features=10, bias=True),\n",
       " Linear(in_features=10, out_features=10, bias=True),\n",
       " Linear(in_features=10, out_features=10, bias=True),\n",
       " Linear(in_features=10, out_features=10, bias=True),\n",
       " Linear(in_features=10, out_features=10, bias=True),\n",
       " Linear(in_features=10, out_features=10, bias=True),\n",
       " Linear(in_features=10, out_features=10, bias=True),\n",
       " Linear(in_features=10, out_features=10, bias=True),\n",
       " Linear(in_features=10, out_features=10, bias=True),\n",
       " Linear(in_features=10, out_features=10, bias=True),\n",
       " Linear(in_features=10, out_features=10, bias=True),\n",
       " Linear(in_features=10, out_features=10, bias=True),\n",
       " Linear(in_features=10, out_features=10, bias=True),\n",
       " Linear(in_features=10, out_features=10, bias=True),\n",
       " Linear(in_features=10, out_features=10, bias=True)]"
      ]
     },
     "execution_count": 47,
     "metadata": {},
     "output_type": "execute_result"
    }
   ],
   "source": [
    "hun_layer"
   ]
  },
  {
   "cell_type": "markdown",
   "metadata": {},
   "source": [
    "### 深度自定义"
   ]
  },
  {
   "cell_type": "code",
   "execution_count": 50,
   "metadata": {},
   "outputs": [],
   "source": [
    "import torch.nn as nn"
   ]
  },
  {
   "cell_type": "code",
   "execution_count": 51,
   "metadata": {},
   "outputs": [],
   "source": [
    "class MyNET(nn.Module):\n",
    "    def __init__(self):\n",
    "        super(MyNET, self).__init__()\n",
    "        pass\n",
    "\n",
    "    def forward(self, x):\n",
    "        pass"
   ]
  },
  {
   "cell_type": "code",
   "execution_count": 58,
   "metadata": {},
   "outputs": [],
   "source": [
    "class SingleDogCls(nn.Module):\n",
    "    def __init__(self, n_feature, n_hidden, n_output):\n",
    "        super(SingleDogCls, self).__init__()\n",
    "        \n",
    "        self.hidden = nn.Linear(n_feature, n_hidden)\n",
    "        self.relu = nn.ReLU()\n",
    "        self.predict = nn.Linear(n_hidden, n_output)\n",
    "\n",
    "\n",
    "    def forward(self, x):\n",
    "        x = self.hidden(x)\n",
    "        x = self.relu(x)\n",
    "        x = self.predict(x)\n",
    "        return x"
   ]
  },
  {
   "cell_type": "code",
   "execution_count": 54,
   "metadata": {},
   "outputs": [
    {
     "data": {
      "text/plain": [
       "[['高', '富', '帅', '有'],\n",
       " ['不高', '富', '帅', '有'],\n",
       " ['不高', '不富', '帅', '有'],\n",
       " ['不高', '不富', '不帅', '无']]"
      ]
     },
     "execution_count": 54,
     "metadata": {},
     "output_type": "execute_result"
    }
   ],
   "source": [
    "person"
   ]
  },
  {
   "cell_type": "code",
   "execution_count": 60,
   "metadata": {},
   "outputs": [],
   "source": [
    "will_u_be_single = SingleDogCls(n_feature=3, n_hidden=10, n_output=1)"
   ]
  },
  {
   "cell_type": "code",
   "execution_count": 62,
   "metadata": {},
   "outputs": [
    {
     "data": {
      "text/plain": [
       "SingleDogCls(\n",
       "  (hidden): Linear(in_features=3, out_features=10, bias=True)\n",
       "  (relu): ReLU()\n",
       "  (predict): Linear(in_features=10, out_features=1, bias=True)\n",
       ")"
      ]
     },
     "execution_count": 62,
     "metadata": {},
     "output_type": "execute_result"
    }
   ],
   "source": [
    "will_u_be_single"
   ]
  },
  {
   "cell_type": "code",
   "execution_count": 63,
   "metadata": {},
   "outputs": [
    {
     "data": {
      "image/svg+xml": [
       "<?xml version=\"1.0\" encoding=\"UTF-8\" standalone=\"no\"?>\n",
       "<!DOCTYPE svg PUBLIC \"-//W3C//DTD SVG 1.1//EN\"\n",
       " \"http://www.w3.org/Graphics/SVG/1.1/DTD/svg11.dtd\">\n",
       "<!-- Generated by graphviz version 2.40.1 (20161225.0304)\n",
       " -->\n",
       "<!-- Title: %3 Pages: 1 -->\n",
       "<svg width=\"216pt\" height=\"191pt\"\n",
       " viewBox=\"0.00 0.00 216.00 191.00\" xmlns=\"http://www.w3.org/2000/svg\" xmlns:xlink=\"http://www.w3.org/1999/xlink\">\n",
       "<g id=\"graph0\" class=\"graph\" transform=\"scale(1 1) rotate(0) translate(72 155)\">\n",
       "<title>%3</title>\n",
       "<polygon fill=\"#ffffff\" stroke=\"transparent\" points=\"-72,36 -72,-155 144,-155 144,36 -72,36\"/>\n",
       "<!-- SingleDogCls/Linear[predict]/outputs/7 -->\n",
       "<g id=\"node1\" class=\"node\">\n",
       "<title>SingleDogCls/Linear[predict]/outputs/7</title>\n",
       "<polygon fill=\"#e8e8e8\" stroke=\"#000000\" points=\"63,-36 9,-36 9,0 63,0 63,-36\"/>\n",
       "<text text-anchor=\"start\" x=\"23\" y=\"-15\" font-family=\"Times\" font-size=\"10.00\" fill=\"#000000\">Linear</text>\n",
       "</g>\n",
       "<!-- 3367280784654367794 -->\n",
       "<g id=\"node2\" class=\"node\">\n",
       "<title>3367280784654367794</title>\n",
       "<polygon fill=\"#e8e8e8\" stroke=\"#000000\" points=\"72,-119 0,-119 0,-83 72,-83 72,-119\"/>\n",
       "<text text-anchor=\"start\" x=\"8\" y=\"-98\" font-family=\"Times\" font-size=\"10.00\" fill=\"#000000\">Linear &gt; Relu</text>\n",
       "</g>\n",
       "<!-- 3367280784654367794&#45;&gt;SingleDogCls/Linear[predict]/outputs/7 -->\n",
       "<g id=\"edge1\" class=\"edge\">\n",
       "<title>3367280784654367794&#45;&gt;SingleDogCls/Linear[predict]/outputs/7</title>\n",
       "<path fill=\"none\" stroke=\"#000000\" d=\"M36,-82.9902C36,-72.2963 36,-58.4994 36,-46.3706\"/>\n",
       "<polygon fill=\"#000000\" stroke=\"#000000\" points=\"39.5001,-46.2612 36,-36.2612 32.5001,-46.2613 39.5001,-46.2612\"/>\n",
       "<text text-anchor=\"middle\" x=\"49.5\" y=\"-57\" font-family=\"Times\" font-size=\"10.00\" fill=\"#000000\">10x10</text>\n",
       "</g>\n",
       "</g>\n",
       "</svg>\n"
      ],
      "text/plain": [
       "<hiddenlayer.graph.Graph at 0x7f9b4aea2b70>"
      ]
     },
     "execution_count": 63,
     "metadata": {},
     "output_type": "execute_result"
    }
   ],
   "source": [
    "hl.build_graph(will_u_be_single, torch.randn([10, 3]))"
   ]
  },
  {
   "cell_type": "code",
   "execution_count": 65,
   "metadata": {},
   "outputs": [
    {
     "name": "stdout",
     "output_type": "stream",
     "text": [
      "迭代次数0\n",
      "data:(tensor([[1., 1., 1.],\n",
      "        [0., 1., 1.]]), tensor([1., 1.]))\n",
      "tensor([[0.4994],\n",
      "        [0.5929]], grad_fn=<ThAddmmBackward>) tensor([1., 1.])\n",
      "迭代次数1\n",
      "data:(tensor([[0., 0., 1.],\n",
      "        [0., 0., 0.]]), tensor([1., 0.]))\n",
      "tensor([[0.4088],\n",
      "        [0.3349]], grad_fn=<ThAddmmBackward>) tensor([1., 0.])\n"
     ]
    }
   ],
   "source": [
    "for index, data in enumerate(single_loader):\n",
    "    print(f\"迭代次数{index}\")\n",
    "    print(f\"data:{data}\")\n",
    "    input_x, ground_truth = data\n",
    "    predict = will_u_be_single(input_x)\n",
    "    print(predict, ground_truth)\n",
    "    "
   ]
  },
  {
   "cell_type": "markdown",
   "metadata": {},
   "source": [
    "## 三、定义损失\n",
    "度量，模型算出来的predict,和你的ground_truth之间的差距\n",
    "\n",
    "一般用损失函数来度量。\n",
    "损失函数极其重要，如果度量的不准，那个整个模型学习的方向就会有偏差。\n",
    "官方定义的损失函数在目前有两个地方:\n",
    "- torch.nn\n",
    "- torch.nn.functional\n",
    "\n",
    "torch.nn下面的loss函数,是作为模型的一部分存在的,实际上是torch.nn.functional下loss函数的封装,它实际上还是调用了torch.nn.functional下的函数."
   ]
  },
  {
   "cell_type": "code",
   "execution_count": 66,
   "metadata": {},
   "outputs": [],
   "source": [
    "import torch.nn.functional as F"
   ]
  },
  {
   "cell_type": "code",
   "execution_count": null,
   "metadata": {},
   "outputs": [],
   "source": [
    "class L1Loss(_Loss):\n",
    "    __constants__ = ['reduction']\n",
    "\n",
    "    def __init__(self, size_average=None, reduce=None, reduction='mean'):\n",
    "        super(L1Loss, self).__init__(size_average, reduce, reduction)\n",
    "\n",
    "    @weak_script_method\n",
    "    def forward(self, input, target):\n",
    "        return F.l1_loss(input, target, reduction=self.reduction)"
   ]
  },
  {
   "cell_type": "code",
   "execution_count": 68,
   "metadata": {},
   "outputs": [
    {
     "data": {
      "text/plain": [
       "tensor(3.)"
      ]
     },
     "execution_count": 68,
     "metadata": {},
     "output_type": "execute_result"
    }
   ],
   "source": [
    "a = torch.tensor(2.)\n",
    "b = torch.tensor(5.)\n",
    "\n",
    "F.l1_loss(a, b) # |a - b|"
   ]
  },
  {
   "cell_type": "code",
   "execution_count": 69,
   "metadata": {},
   "outputs": [
    {
     "data": {
      "text/plain": [
       "tensor(9.)"
      ]
     },
     "execution_count": 69,
     "metadata": {},
     "output_type": "execute_result"
    }
   ],
   "source": [
    "F.mse_loss(a, b) # "
   ]
  },
  {
   "cell_type": "code",
   "execution_count": null,
   "metadata": {},
   "outputs": [],
   "source": []
  },
  {
   "cell_type": "markdown",
   "metadata": {},
   "source": [
    "简单的两个数列之间的距离,可以用l1,或者mse搞定,但是,如果是两个分布,怎么度量呢? 两个图像? 两个类别? 其实也差不多"
   ]
  },
  {
   "cell_type": "markdown",
   "metadata": {},
   "source": [
    "torch.nn.functional下面,有如下这么多的损失函数:\n",
    "\n",
    "- binary_cross_entropy\n",
    "- binary_cross_entropy_with_logits\n",
    "- poisson_nll_loss\n",
    "- cosine_embedding_loss\n",
    "- cross_entropy\n",
    "- ctc_loss\n",
    "- hinge_embedding_loss\n",
    "- kl_div\n",
    "- l1_loss\n",
    "- mse_loss\n",
    "- margin_ranking_loss\n",
    "- multilabel_margin_loss\n",
    "- multilabel_soft_margin_loss\n",
    "- multi_margin_loss\n",
    "- nll_loss\n",
    "- smooth_l1_loss\n",
    "- soft_margin_loss\n",
    "- triplet_margin_loss\n",
    "\n",
    "足够日常使用了,但是,如果你需要的loss,官方没有\n",
    "你有两个办法实现自己的loss function\n",
    "\n",
    "- 继承torch.nn.module实现loss\n",
    "- 继承torch.autograd.function 实现loss\n",
    "区别在于,你想把你的这个loss,当做什么:\n",
    "![](http://img.huaiwen.me/20190118130347.png)\n",
    "\n",
    "\n",
    "实质上的区别是,你这个loss的反向传播,你准备让谁做.\n",
    "> 官方实现：loss是一个module "
   ]
  },
  {
   "cell_type": "markdown",
   "metadata": {},
   "source": [
    "### 继承torch.nn.module实现loss"
   ]
  },
  {
   "cell_type": "code",
   "execution_count": null,
   "metadata": {},
   "outputs": [],
   "source": [
    "class MyNET(nn.Module):\n",
    "    def __init__(self):\n",
    "        super(MyNET, self).__init__()\n",
    "        pass\n",
    "\n",
    "    def forward(self, x):\n",
    "        pass"
   ]
  },
  {
   "cell_type": "code",
   "execution_count": 70,
   "metadata": {},
   "outputs": [],
   "source": [
    "class MyLoss(nn.Module):\n",
    "    def __init__(self):\n",
    "        super(MyLoss, self).__init__()\n",
    "\n",
    "    def forward(self, x, y):\n",
    "        return x * 100  - y"
   ]
  },
  {
   "cell_type": "code",
   "execution_count": 71,
   "metadata": {},
   "outputs": [],
   "source": [
    "loss = MyLoss()"
   ]
  },
  {
   "cell_type": "code",
   "execution_count": 73,
   "metadata": {},
   "outputs": [
    {
     "data": {
      "text/plain": [
       "tensor(195.)"
      ]
     },
     "execution_count": 73,
     "metadata": {},
     "output_type": "execute_result"
    }
   ],
   "source": [
    "loss(a, b)"
   ]
  },
  {
   "cell_type": "code",
   "execution_count": 74,
   "metadata": {},
   "outputs": [
    {
     "data": {
      "text/plain": [
       "tensor(2.)"
      ]
     },
     "execution_count": 74,
     "metadata": {},
     "output_type": "execute_result"
    }
   ],
   "source": [
    "a"
   ]
  },
  {
   "cell_type": "code",
   "execution_count": 75,
   "metadata": {},
   "outputs": [
    {
     "data": {
      "text/plain": [
       "tensor(5.)"
      ]
     },
     "execution_count": 75,
     "metadata": {},
     "output_type": "execute_result"
    }
   ],
   "source": [
    "b"
   ]
  },
  {
   "cell_type": "markdown",
   "metadata": {},
   "source": [
    "### 继承torch.autograd.function 实现loss"
   ]
  },
  {
   "cell_type": "code",
   "execution_count": null,
   "metadata": {},
   "outputs": [],
   "source": [
    "from torch.autograd import Function"
   ]
  },
  {
   "cell_type": "code",
   "execution_count": null,
   "metadata": {},
   "outputs": [],
   "source": [
    "class MyLossFunction(Function):\n",
    "    def forwoard(input_tensor):\n",
    "        pass\n",
    "    def backward(grad_output):\n",
    "        pass"
   ]
  },
  {
   "cell_type": "code",
   "execution_count": 118,
   "metadata": {},
   "outputs": [],
   "source": [
    "class MyLossFunc(torch.autograd.Function):\n",
    "\n",
    "    def forward(self, input_a, input_b):\n",
    "        return 2 * (input_a - input_b)\n",
    "\n",
    "    def backward(self, grad_output):\n",
    "        print(\"___\")\n",
    "        return grad_output * 2, -grad_output *2"
   ]
  },
  {
   "cell_type": "code",
   "execution_count": 119,
   "metadata": {},
   "outputs": [],
   "source": [
    "a = torch.tensor(1., requires_grad = True)\n",
    "b = torch.tensor(2., requires_grad = True)"
   ]
  },
  {
   "cell_type": "code",
   "execution_count": 120,
   "metadata": {},
   "outputs": [],
   "source": [
    "f_loss = MyLossFunc()"
   ]
  },
  {
   "cell_type": "code",
   "execution_count": 121,
   "metadata": {},
   "outputs": [
    {
     "data": {
      "text/plain": [
       "tensor(-2., grad_fn=<MyLossFunc>)"
      ]
     },
     "execution_count": 121,
     "metadata": {},
     "output_type": "execute_result"
    }
   ],
   "source": [
    "c = f_loss(a, b)\n",
    "c"
   ]
  },
  {
   "cell_type": "code",
   "execution_count": 122,
   "metadata": {},
   "outputs": [
    {
     "name": "stdout",
     "output_type": "stream",
     "text": [
      "___\n"
     ]
    }
   ],
   "source": [
    "c.backward()"
   ]
  },
  {
   "cell_type": "code",
   "execution_count": 123,
   "metadata": {},
   "outputs": [
    {
     "data": {
      "text/plain": [
       "tensor(2.)"
      ]
     },
     "execution_count": 123,
     "metadata": {},
     "output_type": "execute_result"
    }
   ],
   "source": [
    "a.grad"
   ]
  },
  {
   "cell_type": "code",
   "execution_count": 124,
   "metadata": {},
   "outputs": [
    {
     "data": {
      "text/plain": [
       "tensor(-2.)"
      ]
     },
     "execution_count": 124,
     "metadata": {},
     "output_type": "execute_result"
    }
   ],
   "source": [
    "b.grad"
   ]
  },
  {
   "cell_type": "markdown",
   "metadata": {},
   "source": [
    "$$ c = 2 * (a - b) $$"
   ]
  },
  {
   "cell_type": "markdown",
   "metadata": {},
   "source": [
    "## 四、实现优化算法"
   ]
  },
  {
   "cell_type": "markdown",
   "metadata": {},
   "source": [
    "Pytorch 集成了常见的优化算法，包括:\n",
    "- torch.optim.Adadelta\n",
    "- torch.optim.Adagrad\n",
    "- torch.optim.Adam\n",
    "- torch.optim.SparseAdam\n",
    "- torch.optim.Adamax\n",
    "- torch.optim.LBFGS\n",
    "- torch.optim.RMSprop\n",
    "- torch.optim.Rprop\n",
    "- torch.optim.SGD\n",
    "\n"
   ]
  },
  {
   "cell_type": "code",
   "execution_count": 91,
   "metadata": {},
   "outputs": [],
   "source": [
    "from torch.optim import Optimizer"
   ]
  },
  {
   "cell_type": "code",
   "execution_count": 93,
   "metadata": {},
   "outputs": [],
   "source": [
    "optimizer = torch.optim.SGD(will_u_be_single.parameters(), lr=0.05, momentum=0.9)"
   ]
  },
  {
   "cell_type": "markdown",
   "metadata": {},
   "source": [
    "如果你需要自定义优化算法, 也可以继承torch.optim.Optimizer，通过实现其中的部分方法如step等，来优化模型的参数。"
   ]
  },
  {
   "cell_type": "code",
   "execution_count": null,
   "metadata": {},
   "outputs": [],
   "source": [
    "from torch.optim import Optimizer\n",
    "class MyOptimizer(Optimizer):\n",
    "    def step(self,closure=None):\n",
    "        # 每一次是怎么优化的\n",
    "        pass"
   ]
  },
  {
   "cell_type": "markdown",
   "metadata": {},
   "source": [
    "### 调整学习率"
   ]
  },
  {
   "cell_type": "markdown",
   "metadata": {},
   "source": [
    "pytorch官方,提供了torch.optim.lr_scheduler类来基于动态调整学习率\n",
    "\n",
    "- torch.optim.lr_scheduler.LambdaLR\n",
    "- torch.optim.lr_scheduler.StepLR\n",
    "- torch.optim.lr_scheduler.MultiStepLR\n",
    "- torch.optim.lr_scheduler.ExponentialLR\n",
    "- torch.optim.lr_scheduler.CosineAnnealingLR\n",
    "- torch.optim.lr_scheduler.ReduceLROnPlateau"
   ]
  },
  {
   "cell_type": "code",
   "execution_count": 94,
   "metadata": {},
   "outputs": [],
   "source": [
    "from torch.optim.lr_scheduler import StepLR\n",
    "\n",
    "scheduler = StepLR(optimizer, step_size=30, gamma=0.1)"
   ]
  },
  {
   "cell_type": "code",
   "execution_count": null,
   "metadata": {},
   "outputs": [],
   "source": [
    "一开始lr=0.05\n",
    "lr = 0.05     if epoch < 30\n",
    "lr = 0.005    if 30 <= epoch < 60\n",
    "lr = 0.0005   if 60 <= epoch < 90"
   ]
  },
  {
   "cell_type": "markdown",
   "metadata": {},
   "source": [
    "## 五、迭代训练"
   ]
  },
  {
   "cell_type": "code",
   "execution_count": 107,
   "metadata": {
    "scrolled": false
   },
   "outputs": [
    {
     "name": "stdout",
     "output_type": "stream",
     "text": [
      "Epoch 0, loss: 0.40858253836631775, current lr:[0.05]\n",
      "Epoch 1, loss: 0.3645174503326416, current lr:[0.05]\n",
      "Epoch 2, loss: 0.5424787998199463, current lr:[0.05]\n",
      "Epoch 3, loss: 0.6483826637268066, current lr:[0.05]\n",
      "Epoch 4, loss: 0.29630768299102783, current lr:[0.05]\n",
      "Epoch 5, loss: 0.2980116605758667, current lr:[0.05]\n",
      "Epoch 6, loss: 0.3198118507862091, current lr:[0.05]\n",
      "Epoch 7, loss: 0.2896440625190735, current lr:[0.05]\n",
      "Epoch 8, loss: 0.2305247038602829, current lr:[0.05]\n",
      "Epoch 9, loss: 0.19246754050254822, current lr:[0.05]\n",
      "Epoch 10, loss: 0.21768486499786377, current lr:[0.005000000000000001]\n",
      "Epoch 11, loss: 0.17024391889572144, current lr:[0.005000000000000001]\n",
      "Epoch 12, loss: 0.1743328720331192, current lr:[0.005000000000000001]\n",
      "Epoch 13, loss: 0.17746058106422424, current lr:[0.005000000000000001]\n",
      "Epoch 14, loss: 0.17987018823623657, current lr:[0.005000000000000001]\n",
      "Epoch 15, loss: 0.15041883289813995, current lr:[0.005000000000000001]\n",
      "Epoch 16, loss: 0.08859486877918243, current lr:[0.005000000000000001]\n",
      "Epoch 17, loss: 0.08234968781471252, current lr:[0.005000000000000001]\n",
      "Epoch 18, loss: 0.08062052726745605, current lr:[0.005000000000000001]\n",
      "Epoch 19, loss: 0.07885058224201202, current lr:[0.005000000000000001]\n",
      "Epoch 20, loss: 0.07372148334980011, current lr:[0.0005000000000000001]\n",
      "Epoch 21, loss: 0.06877093017101288, current lr:[0.0005000000000000001]\n",
      "Epoch 22, loss: 0.06775140762329102, current lr:[0.0005000000000000001]\n",
      "Epoch 23, loss: 0.06654612720012665, current lr:[0.0005000000000000001]\n",
      "Epoch 24, loss: 0.06518895924091339, current lr:[0.0005000000000000001]\n",
      "Epoch 25, loss: 0.06370721757411957, current lr:[0.0005000000000000001]\n",
      "Epoch 26, loss: 0.062122926115989685, current lr:[0.0005000000000000001]\n",
      "Epoch 27, loss: 0.060453832149505615, current lr:[0.0005000000000000001]\n",
      "Epoch 28, loss: 0.05871424078941345, current lr:[0.0005000000000000001]\n",
      "Epoch 29, loss: 0.056915849447250366, current lr:[0.0005000000000000001]\n",
      "Epoch 30, loss: 0.055067822337150574, current lr:[5.0000000000000016e-05]\n",
      "Epoch 31, loss: 0.05394281446933746, current lr:[5.0000000000000016e-05]\n",
      "Epoch 32, loss: 0.05375055968761444, current lr:[5.0000000000000016e-05]\n",
      "Epoch 33, loss: 0.05355572700500488, current lr:[5.0000000000000016e-05]\n",
      "Epoch 34, loss: 0.053358569741249084, current lr:[5.0000000000000016e-05]\n",
      "Epoch 35, loss: 0.05315972864627838, current lr:[5.0000000000000016e-05]\n",
      "Epoch 36, loss: 0.05295939743518829, current lr:[5.0000000000000016e-05]\n",
      "Epoch 37, loss: 0.05275788903236389, current lr:[5.0000000000000016e-05]\n",
      "Epoch 38, loss: 0.05255533754825592, current lr:[5.0000000000000016e-05]\n",
      "Epoch 39, loss: 0.052351996302604675, current lr:[5.0000000000000016e-05]\n",
      "Epoch 40, loss: 0.05214795470237732, current lr:[5.000000000000001e-06]\n",
      "Epoch 41, loss: 0.0520264208316803, current lr:[5.000000000000001e-06]\n",
      "Epoch 42, loss: 0.052005961537361145, current lr:[5.000000000000001e-06]\n",
      "Epoch 43, loss: 0.051985353231430054, current lr:[5.000000000000001e-06]\n",
      "Epoch 44, loss: 0.05196480453014374, current lr:[5.000000000000001e-06]\n",
      "Epoch 45, loss: 0.051944226026535034, current lr:[5.000000000000001e-06]\n",
      "Epoch 46, loss: 0.05192363262176514, current lr:[5.000000000000001e-06]\n",
      "Epoch 47, loss: 0.05190300941467285, current lr:[5.000000000000001e-06]\n",
      "Epoch 48, loss: 0.051882416009902954, current lr:[5.000000000000001e-06]\n",
      "Epoch 49, loss: 0.051861703395843506, current lr:[5.000000000000001e-06]\n",
      "Epoch 50, loss: 0.05184110999107361, current lr:[5.000000000000002e-07]\n",
      "Epoch 51, loss: 0.05182880163192749, current lr:[5.000000000000002e-07]\n",
      "Epoch 52, loss: 0.05182674527168274, current lr:[5.000000000000002e-07]\n",
      "Epoch 53, loss: 0.05182473361492157, current lr:[5.000000000000002e-07]\n",
      "Epoch 54, loss: 0.051822662353515625, current lr:[5.000000000000002e-07]\n",
      "Epoch 55, loss: 0.051820605993270874, current lr:[5.000000000000002e-07]\n",
      "Epoch 56, loss: 0.05181854963302612, current lr:[5.000000000000002e-07]\n",
      "Epoch 57, loss: 0.05181649327278137, current lr:[5.000000000000002e-07]\n",
      "Epoch 58, loss: 0.05181443691253662, current lr:[5.000000000000002e-07]\n",
      "Epoch 59, loss: 0.05181235074996948, current lr:[5.000000000000002e-07]\n",
      "Epoch 60, loss: 0.051810309290885925, current lr:[5.0000000000000024e-08]\n",
      "Epoch 61, loss: 0.05180905759334564, current lr:[5.0000000000000024e-08]\n",
      "Epoch 62, loss: 0.051808878779411316, current lr:[5.0000000000000024e-08]\n",
      "Epoch 63, loss: 0.0518086701631546, current lr:[5.0000000000000024e-08]\n",
      "Epoch 64, loss: 0.05180850625038147, current lr:[5.0000000000000024e-08]\n",
      "Epoch 65, loss: 0.05180826783180237, current lr:[5.0000000000000024e-08]\n",
      "Epoch 66, loss: 0.05180802941322327, current lr:[5.0000000000000024e-08]\n",
      "Epoch 67, loss: 0.05180783569812775, current lr:[5.0000000000000024e-08]\n",
      "Epoch 68, loss: 0.051807671785354614, current lr:[5.0000000000000024e-08]\n",
      "Epoch 69, loss: 0.0518074631690979, current lr:[5.0000000000000024e-08]\n",
      "Epoch 70, loss: 0.0518072247505188, current lr:[5.000000000000002e-09]\n",
      "Epoch 71, loss: 0.051807135343551636, current lr:[5.000000000000002e-09]\n",
      "Epoch 72, loss: 0.051807135343551636, current lr:[5.000000000000002e-09]\n",
      "Epoch 73, loss: 0.051807135343551636, current lr:[5.000000000000002e-09]\n",
      "Epoch 74, loss: 0.051807135343551636, current lr:[5.000000000000002e-09]\n",
      "Epoch 75, loss: 0.051807135343551636, current lr:[5.000000000000002e-09]\n",
      "Epoch 76, loss: 0.051807135343551636, current lr:[5.000000000000002e-09]\n",
      "Epoch 77, loss: 0.051807135343551636, current lr:[5.000000000000002e-09]\n",
      "Epoch 78, loss: 0.051807135343551636, current lr:[5.000000000000002e-09]\n",
      "Epoch 79, loss: 0.051807135343551636, current lr:[5.000000000000002e-09]\n",
      "Epoch 80, loss: 0.051807135343551636, current lr:[5.000000000000002e-10]\n",
      "Epoch 81, loss: 0.051807135343551636, current lr:[5.000000000000002e-10]\n",
      "Epoch 82, loss: 0.051807135343551636, current lr:[5.000000000000002e-10]\n",
      "Epoch 83, loss: 0.051807135343551636, current lr:[5.000000000000002e-10]\n",
      "Epoch 84, loss: 0.051807135343551636, current lr:[5.000000000000002e-10]\n",
      "Epoch 85, loss: 0.051807135343551636, current lr:[5.000000000000002e-10]\n",
      "Epoch 86, loss: 0.051807135343551636, current lr:[5.000000000000002e-10]\n",
      "Epoch 87, loss: 0.051807135343551636, current lr:[5.000000000000002e-10]\n",
      "Epoch 88, loss: 0.051807135343551636, current lr:[5.000000000000002e-10]\n",
      "Epoch 89, loss: 0.051807135343551636, current lr:[5.000000000000002e-10]\n",
      "Epoch 90, loss: 0.051807135343551636, current lr:[5.000000000000003e-11]\n",
      "Epoch 91, loss: 0.051807135343551636, current lr:[5.000000000000003e-11]\n",
      "Epoch 92, loss: 0.051807135343551636, current lr:[5.000000000000003e-11]\n",
      "Epoch 93, loss: 0.051807135343551636, current lr:[5.000000000000003e-11]\n",
      "Epoch 94, loss: 0.051807135343551636, current lr:[5.000000000000003e-11]\n",
      "Epoch 95, loss: 0.051807135343551636, current lr:[5.000000000000003e-11]\n",
      "Epoch 96, loss: 0.051807135343551636, current lr:[5.000000000000003e-11]\n",
      "Epoch 97, loss: 0.051807135343551636, current lr:[5.000000000000003e-11]\n",
      "Epoch 98, loss: 0.051807135343551636, current lr:[5.000000000000003e-11]\n",
      "Epoch 99, loss: 0.051807135343551636, current lr:[5.000000000000003e-11]\n"
     ]
    }
   ],
   "source": [
    "import torch\n",
    "import torch.utils.data as Data\n",
    "\n",
    "import torch.nn as nn\n",
    "import torch.nn.functional as F\n",
    "from torch.optim import Optimizer\n",
    "from torch.optim.lr_scheduler import StepLR\n",
    "\n",
    "\n",
    "# 从前,有个数据表\n",
    "person_1 = ['高','富','帅','有']\n",
    "person_2 = ['不高','富','帅','有']\n",
    "person_3 = ['不高','不富','帅','有']\n",
    "person_4 =['不高','不富','不帅','无']\n",
    "person = [person_1, person_2, person_3, person_4]\n",
    "\n",
    "# 有个数据转换字典\n",
    "word2id = {\n",
    "    '高':1,\n",
    "    '富':1,\n",
    "    '帅':1,\n",
    "    '不高':0,\n",
    "    '不富':0,\n",
    "    '不帅':0,\n",
    "    '有':1,\n",
    "    '无':0\n",
    "}\n",
    "\n",
    "# 将数据表进行封装\n",
    "class ManDataset(Data.Dataset):\n",
    "    def __init__(self, person):\n",
    "        self.data = person;\n",
    "    def __getitem__(self, index):\n",
    "        item = self.data[index]\n",
    "        new_item = []\n",
    "        for feature in item:\n",
    "            new_item.append(word2id[feature])\n",
    "        x = new_item[:3]\n",
    "        y = new_item[-1]\n",
    "        return x, y\n",
    "        \n",
    "    def __len__(self):\n",
    "        return len(self.data)\n",
    "\n",
    "# 对数据进行预处理\n",
    "def my_collate_fn(batch_data):\n",
    "    x_batch = []\n",
    "    y_batch = []\n",
    "    for example in batch_data:\n",
    "        x, y  = example\n",
    "        x_batch.append(x)\n",
    "        y_batch.append(y)\n",
    "    x_batch = torch.tensor(x_batch,dtype = torch.float32)\n",
    "    y_batch = torch.tensor(y_batch,dtype = torch.float32)\n",
    "    return x_batch, y_batch\n",
    "\n",
    "# 创建数据集实例\n",
    "person_dataset = ManDataset(person)\n",
    "# 创建加载器,加载数据集\n",
    "batch_size = 2\n",
    "peroson_data_loader = Data.DataLoader(dataset=person_dataset, \n",
    "                                      batch_size=batch_size,  \n",
    "                                      collate_fn=my_collate_fn)\n",
    "\n",
    "\n",
    "# 实现模型\n",
    "class SingleDog(nn.Module):\n",
    "    def __init__(self, n_feature, n_hidden, n_output):\n",
    "        super(SingleDog, self).__init__()\n",
    "        \n",
    "        self.hidden = nn.Linear(n_feature, n_hidden)\n",
    "        self.relu = nn.ReLU()\n",
    "        self.predict = nn.Linear(n_hidden, n_output)\n",
    "\n",
    "\n",
    "    def forward(self, x):\n",
    "        x = self.hidden(x)\n",
    "        x = self.relu(x)\n",
    "        x = self.predict(x)\n",
    "        return x\n",
    "    \n",
    "# 创建模型实例\n",
    "will_u_be_single = SingleDog(n_feature=3, n_hidden=10, n_output=1)\n",
    "\n",
    "# 创建Loss 函数\n",
    "single_loss = nn.L1Loss()\n",
    "\n",
    "# 创建优化器\n",
    "optimizer = torch.optim.SGD(will_u_be_single.parameters(), lr=0.05, momentum=0.9)\n",
    "\n",
    "# 根据epoch,自动更新优化器的参数\n",
    "scheduled_optimizer = StepLR(optimizer, step_size=10, gamma=0.1)\n",
    "\n",
    "# 开始迭代训练\n",
    "total_epoch = 100\n",
    "for epoch in range(total_epoch):\n",
    "    for index, data in enumerate(peroson_data_loader):\n",
    "        input_x, ground_truth = data\n",
    "        predict = will_u_be_single(input_x)\n",
    "        loss = single_loss(predict.squeeze(), ground_truth)\n",
    "        optimizer.zero_grad()\n",
    "        loss.backward()\n",
    "        optimizer.step()\n",
    "    scheduled_optimizer.step()\n",
    "\n",
    "    print(f\"Epoch {epoch}, loss: {loss.item()}, current lr:{scheduled_optimizer.get_lr()}\")\n"
   ]
  },
  {
   "cell_type": "markdown",
   "metadata": {},
   "source": [
    "#### 测试一下"
   ]
  },
  {
   "cell_type": "code",
   "execution_count": 109,
   "metadata": {},
   "outputs": [
    {
     "data": {
      "text/plain": [
       "tensor([0.0875], grad_fn=<ThAddBackward>)"
      ]
     },
     "execution_count": 109,
     "metadata": {},
     "output_type": "execute_result"
    }
   ],
   "source": [
    "will_u_be_single(torch.tensor([0.,1.,0.]))"
   ]
  },
  {
   "cell_type": "markdown",
   "metadata": {},
   "source": [
    "## 六、加速计算\n",
    "加速计算,最快的办法,就是把数据和模型放到GPU上跑"
   ]
  },
  {
   "cell_type": "code",
   "execution_count": 110,
   "metadata": {},
   "outputs": [
    {
     "data": {
      "text/plain": [
       "True"
      ]
     },
     "execution_count": 110,
     "metadata": {},
     "output_type": "execute_result"
    }
   ],
   "source": [
    "torch.cuda.is_available()"
   ]
  },
  {
   "cell_type": "code",
   "execution_count": 112,
   "metadata": {},
   "outputs": [
    {
     "data": {
      "text/plain": [
       "SingleDog(\n",
       "  (hidden): Linear(in_features=3, out_features=10, bias=True)\n",
       "  (relu): ReLU()\n",
       "  (predict): Linear(in_features=10, out_features=1, bias=True)\n",
       ")"
      ]
     },
     "execution_count": 112,
     "metadata": {},
     "output_type": "execute_result"
    }
   ],
   "source": [
    "will_u_be_single.cuda()"
   ]
  },
  {
   "cell_type": "code",
   "execution_count": null,
   "metadata": {},
   "outputs": [],
   "source": [
    "# 创建模型实例\n",
    "will_u_be_single = SingleDog(n_feature=3, n_hidden=10, n_output=1)\n",
    "\n",
    "##########\n",
    "will_u_be_single.cuda()\n",
    "##########\n",
    "\n",
    "\n",
    "# 创建Loss 函数\n",
    "single_loss = nn.L1Loss()\n",
    "\n",
    "# 创建优化器\n",
    "optimizer = torch.optim.SGD(will_u_be_single.parameters(), lr=0.05, momentum=0.9)\n",
    "\n",
    "# 根据epoch,自动更新优化器的参数\n",
    "scheduled_optimizer = StepLR(optimizer, step_size=10, gamma=0.1)\n",
    "\n",
    "# 开始迭代训练\n",
    "total_epoch = 100\n",
    "for epoch in range(total_epoch):\n",
    "    for index, data in enumerate(peroson_data_loader):\n",
    "        input_x, ground_truth = data\n",
    "        \n",
    "        #########\n",
    "        input_x = input_x.cuda()\n",
    "        ground_truth = ground_truth.cuda()\n",
    "        #########\n",
    "        \n",
    "        predict = will_u_be_single(input_x)\n",
    "        loss = single_loss(predict, ground_truth)\n",
    "        optimizer.zero_grad()\n",
    "        loss.backward()\n",
    "        optimizer.step()\n",
    "    scheduled_optimizer.step()"
   ]
  },
  {
   "cell_type": "markdown",
   "metadata": {},
   "source": [
    "## 七、存储和加载模型"
   ]
  },
  {
   "cell_type": "markdown",
   "metadata": {},
   "source": [
    "保存和加载整个模型, 包括: 网络结构, 模型参数等"
   ]
  },
  {
   "cell_type": "code",
   "execution_count": 113,
   "metadata": {},
   "outputs": [
    {
     "name": "stderr",
     "output_type": "stream",
     "text": [
      "/home/huaiwen/anaconda3/lib/python3.6/site-packages/torch/serialization.py:241: UserWarning: Couldn't retrieve source code for container of type SingleDog. It won't be checked for correctness upon loading.\n",
      "  \"type \" + obj.__name__ + \". It won't be checked \"\n"
     ]
    }
   ],
   "source": [
    "torch.save(will_u_be_single, \"./will_you_be_single.pkl\")"
   ]
  },
  {
   "cell_type": "code",
   "execution_count": 116,
   "metadata": {},
   "outputs": [],
   "source": [
    "model_from_file = torch.load('./will_you_be_single.pkl')"
   ]
  },
  {
   "cell_type": "markdown",
   "metadata": {},
   "source": [
    "保存和加载网络中的参数"
   ]
  },
  {
   "cell_type": "code",
   "execution_count": 115,
   "metadata": {},
   "outputs": [],
   "source": [
    "torch.save(will_u_be_single.state_dict(), \"./will_you_be_single_2.pkl\")"
   ]
  },
  {
   "cell_type": "code",
   "execution_count": 117,
   "metadata": {},
   "outputs": [],
   "source": [
    "model_parameter = torch.load('./will_you_be_single_2.pkl')\n",
    "will_u_be_single.load_state_dict(model_parameter)"
   ]
  }
 ],
 "metadata": {
  "kernelspec": {
   "display_name": "Python 3",
   "language": "python",
   "name": "python3"
  },
  "language_info": {
   "codemirror_mode": {
    "name": "ipython",
    "version": 3
   },
   "file_extension": ".py",
   "mimetype": "text/x-python",
   "name": "python",
   "nbconvert_exporter": "python",
   "pygments_lexer": "ipython3",
   "version": "3.6.7"
  }
 },
 "nbformat": 4,
 "nbformat_minor": 2
}
